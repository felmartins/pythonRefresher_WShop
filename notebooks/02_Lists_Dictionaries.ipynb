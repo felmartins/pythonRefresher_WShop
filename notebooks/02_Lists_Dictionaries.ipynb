{
 "cells": [
  {
   "cell_type": "markdown",
   "metadata": {},
   "source": [
    "# Lists and Dictionaries\n",
    "\n",
    "In this section, we'll learn about two important data structures in Python: lists and dictionaries. These allow us to store collections of data in a single variable."
   ]
  },
  {
   "cell_type": "markdown",
   "metadata": {},
   "source": [
    "## What are Lists and Why Do We Need Them?\n",
    "\n",
    "A list is an ordered collection of items. Think of it like a shopping list or a to-do list - it's a sequence of items in a specific order.\n",
    "\n",
    "Why do we need lists?\n",
    "- They allow us to store multiple related items together\n",
    "- They keep items in a specific order\n",
    "- They let us perform operations on multiple items at once\n",
    "- They make our code more organized and easier to read\n",
    "\n",
    "For example, instead of creating separate variables for each item, we can store them all in a single list:"
   ]
  },
  {
   "cell_type": "code",
   "execution_count": null,
   "metadata": {},
   "outputs": [],
   "source": [
    "# Instead of this:\n",
    "color1 = \"red\"\n",
    "color2 = \"green\"\n",
    "color3 = \"blue\"\n",
    "color4 = \"yellow\"\n",
    "\n",
    "# We can do this:\n",
    "colors = [\"red\", \"green\", \"blue\", \"yellow\"]\n",
    "print(colors)"
   ]
  },
  {
   "cell_type": "markdown",
   "metadata": {},
   "source": [
    "## Creating Lists\n",
    "\n",
    "In Python, lists are created using square brackets `[]` with items separated by commas:"
   ]
  },
  {
   "cell_type": "code",
   "execution_count": null,
   "metadata": {},
   "outputs": [],
   "source": [
    "# A list of strings\n",
    "fruits = [\"apple\", \"banana\", \"orange\", \"grape\"]\n",
    "print(fruits)\n",
    "\n",
    "# A list of numbers\n",
    "numbers = [1, 2, 3, 4, 5]\n",
    "print(numbers)\n",
    "\n",
    "# A mixed list (can contain different types)\n",
    "mixed = [\"apple\", 42, True, 3.14]\n",
    "print(mixed)\n",
    "\n",
    "# An empty list\n",
    "empty_list = []\n",
    "print(empty_list)"
   ]
  },
  {
   "cell_type": "markdown",
   "metadata": {},
   "source": [
    "## Accessing List Elements\n",
    "\n",
    "You can access individual elements in a list using their index (position). In Python, indices start at 0, not 1."
   ]
  },
  {
   "cell_type": "code",
   "execution_count": null,
   "metadata": {},
   "outputs": [],
   "source": [
    "fruits = [\"apple\", \"banana\", \"orange\", \"grape\"]\n",
    "\n",
    "# Access the first element (index 0)\n",
    "print(\"First fruit:\", fruits[0])  # apple\n",
    "\n",
    "# Access the second element (index 1)\n",
    "print(\"Second fruit:\", fruits[1])  # banana\n",
    "\n",
    "# Access the last element\n",
    "print(\"Last fruit:\", fruits[-1])  # grape\n",
    "\n",
    "# Access the second-to-last element\n",
    "print(\"Second-to-last fruit:\", fruits[-2])  # orange"
   ]
  },
  {
   "cell_type": "markdown",
   "metadata": {},
   "source": [
    "### Why Do Indices Start at 0?\n",
    "\n",
    "In Python (and many other programming languages), list indices start at 0 instead of 1. This might seem strange at first, but it's actually based on how computers store data in memory.\n",
    "\n",
    "Think of the index as an \"offset\" from the beginning of the list:\n",
    "- The first element is 0 steps away from the start\n",
    "- The second element is 1 step away from the start\n",
    "- And so on...\n",
    "\n",
    "This is a common source of confusion for beginners, so remember: the first element is at index 0!"
   ]
  },
  {
   "cell_type": "markdown",
   "metadata": {},
   "source": [
    "## Modifying Lists\n",
    "\n",
    "Lists are mutable, which means you can change their contents after they're created."
   ]
  },
  {
   "cell_type": "code",
   "execution_count": null,
   "metadata": {},
   "outputs": [],
   "source": [
    "fruits = [\"apple\", \"banana\", \"orange\", \"grape\"]\n",
    "print(\"Original list:\", fruits)\n",
    "\n",
    "# Change the second element\n",
    "fruits[1] = \"pear\"\n",
    "print(\"After changing the second element:\", fruits)"
   ]
  },
  {
   "cell_type": "markdown",
   "metadata": {},
   "source": [
    "## Adding Elements to a List"
   ]
  },
  {
   "cell_type": "code",
   "execution_count": null,
   "metadata": {},
   "outputs": [],
   "source": [
    "fruits = [\"apple\", \"banana\", \"orange\"]\n",
    "print(\"Original list:\", fruits)\n",
    "\n",
    "# Add an element to the end of the list\n",
    "fruits.append(\"grape\")\n",
    "print(\"After append():\", fruits)\n",
    "\n",
    "# Insert an element at a specific position\n",
    "fruits.insert(1, \"pear\")  # Insert at index 1 (second position)\n",
    "print(\"After insert():\", fruits)"
   ]
  },
  {
   "cell_type": "markdown",
   "metadata": {},
   "source": [
    "## Removing Elements from a List"
   ]
  },
  {
   "cell_type": "code",
   "execution_count": null,
   "metadata": {},
   "outputs": [],
   "source": [
    "fruits = [\"apple\", \"banana\", \"orange\", \"grape\", \"kiwi\"]\n",
    "print(\"Original list:\", fruits)\n",
    "\n",
    "# Remove an element by value\n",
    "fruits.remove(\"orange\")\n",
    "print(\"After remove('orange'):\", fruits)\n",
    "\n",
    "# Remove an element by index and get its value\n",
    "removed_fruit = fruits.pop(1)  # Remove the element at index 1\n",
    "print(\"Removed fruit:\", removed_fruit)\n",
    "print(\"After pop(1):\", fruits)\n",
    "\n",
    "# Remove the last element\n",
    "last_fruit = fruits.pop()  # No index means remove the last element\n",
    "print(\"Last fruit:\", last_fruit)\n",
    "print(\"After pop():\", fruits)\n",
    "\n",
    "# Delete an element by index\n",
    "del fruits[0]\n",
    "print(\"After del fruits[0]:\", fruits)"
   ]
  },
  {
   "cell_type": "markdown",
   "metadata": {},
   "source": [
    "## Organizing Lists"
   ]
  },
  {
   "cell_type": "code",
   "execution_count": null,
   "metadata": {},
   "outputs": [],
   "source": [
    "fruits = [\"banana\", \"apple\", \"orange\", \"grape\", \"kiwi\"]\n",
    "print(\"Original list:\", fruits)\n",
    "\n",
    "# Sort the list alphabetically (permanently)\n",
    "fruits.sort()\n",
    "print(\"After sort():\", fruits)\n",
    "\n",
    "# Sort the list in reverse alphabetical order\n",
    "fruits.sort(reverse=True)\n",
    "print(\"After sort(reverse=True):\", fruits)\n",
    "\n",
    "# Create a new list with the original list sorted\n",
    "fruits = [\"banana\", \"apple\", \"orange\", \"grape\", \"kiwi\"]\n",
    "sorted_fruits = sorted(fruits)  # This doesn't change the original list\n",
    "print(\"Original list:\", fruits)\n",
    "print(\"Sorted list:\", sorted_fruits)\n",
    "\n",
    "# Reverse the order of the list\n",
    "fruits.reverse()  # This reverses the current order, not sorting\n",
    "print(\"After reverse():\", fruits)"
   ]
  },
  {
   "cell_type": "markdown",
   "metadata": {},
   "source": [
    "## Finding the Length of a List"
   ]
  },
  {
   "cell_type": "code",
   "execution_count": null,
   "metadata": {},
   "outputs": [],
   "source": [
    "fruits = [\"apple\", \"banana\", \"orange\", \"grape\", \"kiwi\"]\n",
    "length = len(fruits)\n",
    "print(f\"The list contains {length} elements.\")"
   ]
  },
  {
   "cell_type": "markdown",
   "metadata": {},
   "source": [
    "## List Slicing\n",
    "\n",
    "You can access a subset of a list using slicing. The syntax is `list[start:end]`, which gives you elements from `start` up to, but not including, `end`."
   ]
  },
  {
   "cell_type": "code",
   "execution_count": 1,
   "metadata": {},
   "outputs": [
    {
     "name": "stdout",
     "output_type": "stream",
     "text": [
      "First three fruits: ['apple', 'banana', 'orange']\n",
      "First three fruits (shorthand): ['apple', 'banana', 'orange']\n",
      "Last three fruits: ['orange', 'grape', 'kiwi']\n",
      "Last three fruits (shorthand): ['orange', 'grape', 'kiwi']\n"
     ]
    }
   ],
   "source": [
    "fruits = [\"apple\", \"banana\", \"orange\", \"grape\", \"kiwi\"]\n",
    "\n",
    "# Get the first three elements\n",
    "first_three = fruits[0:3]  # Elements at indices 0, 1, and 2\n",
    "print(\"First three fruits:\", first_three)\n",
    "\n",
    "# Shorthand for getting the first three elements\n",
    "first_three = fruits[:3]  # If start is omitted, it defaults to 0\n",
    "print(\"First three fruits (shorthand):\", first_three)\n",
    "\n",
    "# Get the last three elements\n",
    "last_three = fruits[2:5]  # Elements at indices 2, 3, and 4\n",
    "print(\"Last three fruits:\", last_three)\n",
    "\n",
    "# Shorthand for getting the last three elements\n",
    "last_three = fruits[2:]  # If end is omitted, it goes to the end of the list\n",
    "print(\"Last three fruits (shorthand):\", last_three)"
   ]
  },
  {
   "cell_type": "markdown",
   "metadata": {},
   "source": [
    "## Copying a List"
   ]
  },
  {
   "cell_type": "code",
   "execution_count": 2,
   "metadata": {},
   "outputs": [
    {
     "name": "stdout",
     "output_type": "stream",
     "text": [
      "Original list: ['apple', 'banana', 'orange', 'grape']\n",
      "Copy 1: ['apple', 'banana', 'orange']\n",
      "Copy 2: ['apple', 'banana', 'orange']\n"
     ]
    }
   ],
   "source": [
    "fruits = [\"apple\", \"banana\", \"orange\"]\n",
    "\n",
    "# Create a copy of the list\n",
    "fruits_copy = fruits.copy()\n",
    "# Alternative way to copy a list\n",
    "fruits_copy2 = fruits[:]\n",
    "\n",
    "# Modify the original list\n",
    "fruits.append(\"grape\")\n",
    "\n",
    "print(\"Original list:\", fruits)\n",
    "print(\"Copy 1:\", fruits_copy)\n",
    "print(\"Copy 2:\", fruits_copy2)"
   ]
  },
  {
   "cell_type": "markdown",
   "metadata": {},
   "source": [
    "## What are Dictionaries and Why Do We Need Them?\n",
    "\n",
    "A dictionary is an unordered collection of key-value pairs. Think of it like a real dictionary where you look up a word (the key) to find its definition (the value).\n",
    "\n",
    "Why do we need dictionaries?\n",
    "- They allow us to store related information together\n",
    "- They let us access values quickly using keys\n",
    "- They're more descriptive than lists for certain types of data\n",
    "- They're perfect for representing real-world objects with attributes\n",
    "\n",
    "For example, instead of using separate lists for related data, we can use a dictionary to keep everything together:"
   ]
  },
  {
   "cell_type": "code",
   "execution_count": null,
   "metadata": {},
   "outputs": [],
   "source": [
    "# Instead of this:\n",
    "names = [\"John\", \"Alice\", \"Bob\"]\n",
    "ages = [30, 25, 35]\n",
    "cities = [\"New York\", \"Los Angeles\", \"Chicago\"]\n",
    "\n",
    "# We can do this:\n",
    "person1 = {\"name\": \"John\", \"age\": 30, \"city\": \"New York\"}\n",
    "person2 = {\"name\": \"Alice\", \"age\": 25, \"city\": \"Los Angeles\"}\n",
    "person3 = {\"name\": \"Bob\", \"age\": 35, \"city\": \"Chicago\"}\n",
    "\n",
    "print(person1)"
   ]
  },
  {
   "cell_type": "markdown",
   "metadata": {},
   "source": [
    "## Creating Dictionaries\n",
    "\n",
    "In Python, dictionaries are created using curly braces `{}` with key-value pairs separated by commas. Each key-value pair is written as `key: value`."
   ]
  },
  {
   "cell_type": "code",
   "execution_count": null,
   "metadata": {},
   "outputs": [],
   "source": [
    "# Creating a dictionary\n",
    "person = {\n",
    "    \"name\": \"John\",\n",
    "    \"age\": 30,\n",
    "    \"city\": \"New York\"\n",
    "}\n",
    "\n",
    "print(person)"
   ]
  },
  {
   "cell_type": "markdown",
   "metadata": {},
   "source": [
    "## Accessing Dictionary Values\n",
    "\n",
    "You can access values in a dictionary using their keys:"
   ]
  },
  {
   "cell_type": "code",
   "execution_count": null,
   "metadata": {},
   "outputs": [],
   "source": [
    "person = {\"name\": \"John\", \"age\": 30, \"city\": \"New York\"}\n",
    "\n",
    "# Access a value using its key\n",
    "print(\"Name:\", person[\"name\"])\n",
    "print(\"Age:\", person[\"age\"])\n",
    "print(\"City:\", person[\"city\"])"
   ]
  },
  {
   "cell_type": "markdown",
   "metadata": {},
   "source": [
    "### Using the get() Method\n",
    "\n",
    "If you try to access a key that doesn't exist in a dictionary, you'll get an error. To avoid this, you can use the `get()` method, which returns `None` (or a default value you specify) if the key doesn't exist:"
   ]
  },
  {
   "cell_type": "code",
   "execution_count": null,
   "metadata": {},
   "outputs": [],
   "source": [
    "person = {\"name\": \"John\", \"age\": 30, \"city\": \"New York\"}\n",
    "\n",
    "# Using the get() method\n",
    "print(\"Name:\", person.get(\"name\"))  # John\n",
    "print(\"Email:\", person.get(\"email\"))  # None\n",
    "print(\"Email:\", person.get(\"email\", \"Not available\"))  # Not available"
   ]
  },
  {
   "cell_type": "markdown",
   "metadata": {},
   "source": [
    "## Modifying Dictionaries"
   ]
  },
  {
   "cell_type": "code",
   "execution_count": null,
   "metadata": {},
   "outputs": [],
   "source": [
    "person = {\"name\": \"John\", \"age\": 30, \"city\": \"New York\"}\n",
    "print(\"Original dictionary:\", person)\n",
    "\n",
    "# Add a new key-value pair\n",
    "person[\"email\"] = \"john@example.com\"\n",
    "print(\"After adding email:\", person)\n",
    "\n",
    "# Modify an existing value\n",
    "person[\"age\"] = 31\n",
    "print(\"After modifying age:\", person)\n",
    "\n",
    "# Remove a key-value pair\n",
    "del person[\"city\"]\n",
    "print(\"After removing city:\", person)"
   ]
  },
  {
   "cell_type": "markdown",
   "metadata": {},
   "source": [
    "## Looping Through a Dictionary"
   ]
  },
  {
   "cell_type": "code",
   "execution_count": null,
   "metadata": {},
   "outputs": [],
   "source": [
    "person = {\"name\": \"John\", \"age\": 30, \"city\": \"New York\"}\n",
    "\n",
    "# Loop through keys and values\n",
    "print(\"Looping through keys and values:\")\n",
    "for key, value in person.items():\n",
    "    print(f\"{key}: {value}\")\n",
    "\n",
    "# Loop through keys only\n",
    "print(\"\\nLooping through keys:\")\n",
    "for key in person.keys():\n",
    "    print(key)\n",
    "\n",
    "# Loop through values only\n",
    "print(\"\\nLooping through values:\")\n",
    "for value in person.values():\n",
    "    print(value)"
   ]
  },
  {
   "cell_type": "markdown",
   "metadata": {},
   "source": [
    "## When to Use Lists vs. Dictionaries\n",
    "\n",
    "Both lists and dictionaries are useful, but they serve different purposes. Here's when to use each:\n",
    "\n",
    "**Use Lists When:**\n",
    "- You need to maintain a specific order of items\n",
    "- You want to store a collection of similar items\n",
    "- You need to access items by their position (index)\n",
    "- You want to perform operations on all items (like sorting)\n",
    "\n",
    "**Use Dictionaries When:**\n",
    "- You need to associate values with keys\n",
    "- You want to quickly look up values without knowing their position\n",
    "- You're representing objects with attributes\n",
    "- Order doesn't matter\n",
    "\n",
    "**Examples:**\n",
    "- A list of student names: `[\"Alice\", \"Bob\", \"Charlie\"]`\n",
    "- A dictionary of student grades: `{\"Alice\": 95, \"Bob\": 87, \"Charlie\": 92}`"
   ]
  },
  {
   "cell_type": "markdown",
   "metadata": {},
   "source": [
    "## Nesting\n",
    "\n",
    "You can nest dictionaries inside lists, lists inside dictionaries, and even dictionaries inside other dictionaries. This allows you to create complex data structures."
   ]
  },
  {
   "cell_type": "code",
   "execution_count": 4,
   "metadata": {},
   "outputs": [
    {
     "name": "stdout",
     "output_type": "stream",
     "text": [
      "List of dictionaries:\n",
      "John is 30 years old.\n",
      "Alice is 25 years old.\n",
      "Bob is 35 years old.\n",
      "\n",
      "Dictionary with a list:\n",
      "You ordered a thick-crust pizza with the following toppings:\n",
      "- mushrooms\n",
      "- cheese\n",
      "- pepperoni\n",
      "\n",
      "Dictionary of dictionaries:\n",
      "Username: john\n",
      "Full name: John Smith\n",
      "Age: 30\n",
      "City: New York\n",
      "\n",
      "Username: alice\n",
      "Full name: Alice Johnson\n",
      "Age: 25\n",
      "City: Los Angeles\n",
      "\n"
     ]
    }
   ],
   "source": [
    "# A list of dictionaries\n",
    "people = [\n",
    "    {\"name\": \"John\", \"age\": 30},\n",
    "    {\"name\": \"Alice\", \"age\": 25},\n",
    "    {\"name\": \"Bob\", \"age\": 35}\n",
    "]\n",
    "\n",
    "print(\"List of dictionaries:\")\n",
    "for person in people:\n",
    "    print(f\"{person['name']} is {person['age']} years old.\")\n",
    "\n",
    "# A dictionary of lists\n",
    "pizza = {\n",
    "    \"crust\": \"thick\",\n",
    "    \"toppings\": [\"mushrooms\", \"cheese\", \"pepperoni\"]\n",
    "}\n",
    "\n",
    "print(\"\\nDictionary with a list:\")\n",
    "print(f\"You ordered a {pizza['crust']}-crust pizza with the following toppings:\")\n",
    "for topping in pizza[\"toppings\"]:\n",
    "    print(f\"- {topping}\")\n",
    "\n",
    "# A dictionary of dictionaries\n",
    "users = {\n",
    "    \"john\": {\"name\": \"John Smith\", \"age\": 30, \"city\": \"New York\"},\n",
    "    \"alice\": {\"name\": \"Alice Johnson\", \"age\": 25, \"city\": \"Los Angeles\"}\n",
    "}\n",
    "\n",
    "print(\"\\nDictionary of dictionaries:\")\n",
    "for username, user_info in users.items():\n",
    "    print(f\"Username: {username}\")\n",
    "    print(f\"Full name: {user_info['name']}\")\n",
    "    print(f\"Age: {user_info['age']}\")\n",
    "    print(f\"City: {user_info['city']}\\n\")"
   ]
  },
  {
   "cell_type": "markdown",
   "metadata": {},
   "source": [
    "## Real-World Examples\n",
    "\n",
    "Let's look at some real-world examples of how lists and dictionaries are used:"
   ]
  },
  {
   "cell_type": "code",
   "execution_count": 5,
   "metadata": {},
   "outputs": [
    {
     "name": "stdout",
     "output_type": "stream",
     "text": [
      "1 x Laptop: $999.99\n",
      "2 x Mouse: $51.00\n",
      "1 x Keyboard: $45.99\n",
      "Total: $1096.98\n"
     ]
    }
   ],
   "source": [
    "# A shopping cart (list of dictionaries)\n",
    "shopping_cart = [\n",
    "    {\"product\": \"Laptop\", \"price\": 999.99, \"quantity\": 1},\n",
    "    {\"product\": \"Mouse\", \"price\": 25.50, \"quantity\": 2},\n",
    "    {\"product\": \"Keyboard\", \"price\": 45.99, \"quantity\": 1}\n",
    "]\n",
    "\n",
    "# Calculate the total cost\n",
    "total_cost = 0\n",
    "for item in shopping_cart:\n",
    "    item_cost = item[\"price\"] * item[\"quantity\"]\n",
    "    total_cost += item_cost\n",
    "    print(f\"{item['quantity']} x {item['product']}: ${item_cost:.2f}\")\n",
    "\n",
    "print(f\"Total: ${total_cost:.2f}\")"
   ]
  },
  {
   "cell_type": "code",
   "execution_count": null,
   "metadata": {},
   "outputs": [],
   "source": [
    "# A contact list (dictionary of dictionaries)\n",
    "contacts = {\n",
    "    \"John\": {\"phone\": \"555-1234\", \"email\": \"john@example.com\"},\n",
    "    \"Alice\": {\"phone\": \"555-5678\", \"email\": \"alice@example.com\"},\n",
    "    \"Bob\": {\"phone\": \"555-9012\", \"email\": \"bob@example.com\"}\n",
    "}\n",
    "\n",
    "# Look up a contact\n",
    "name = \"Alice\"\n",
    "if name in contacts:\n",
    "    print(f\"Contact information for {name}:\")\n",
    "    print(f\"Phone: {contacts[name]['phone']}\")\n",
    "    print(f\"Email: {contacts[name]['email']}\")\n",
    "else:\n",
    "    print(f\"No contact found for {name}\")"
   ]
  },
  {
   "cell_type": "markdown",
   "metadata": {},
   "source": [
    "## Practice Exercises\n",
    "\n",
    "Let's practice what we've learned with a few exercises:"
   ]
  },
  {
   "cell_type": "markdown",
   "metadata": {},
   "source": [
    "### Exercise 1: Guest List\n",
    "\n",
    "Create a list of at least three people you'd like to invite to dinner. Then use your list to print a message to each person, inviting them to dinner."
   ]
  },
  {
   "cell_type": "code",
   "execution_count": null,
   "metadata": {},
   "outputs": [],
   "source": [
    "# Your code here\n"
   ]
  },
  {
   "cell_type": "markdown",
   "metadata": {},
   "source": [
    "### Exercise 2: Person Dictionary\n",
    "\n",
    "Create a dictionary to store information about a person you know. Include their first name, last name, age, and city they live in. Print each piece of information stored in your dictionary."
   ]
  },
  {
   "cell_type": "code",
   "execution_count": null,
   "metadata": {},
   "outputs": [],
   "source": [
    "# Your code here\n"
   ]
  },
  {
   "cell_type": "markdown",
   "metadata": {},
   "source": [
    "### Exercise 3: Favorite Numbers\n",
    "\n",
    "Create a dictionary where the keys are people's names and the values are their favorite numbers. Print each person's name and their favorite number."
   ]
  },
  {
   "cell_type": "code",
   "execution_count": null,
   "metadata": {},
   "outputs": [],
   "source": [
    "# Your code here\n"
   ]
  },
  {
   "cell_type": "markdown",
   "metadata": {},
   "source": [
    "### Exercise 4: Glossary\n",
    "\n",
    "Create a dictionary containing three programming terms and their definitions. Print each term and its definition in a neatly formatted output."
   ]
  },
  {
   "cell_type": "code",
   "execution_count": null,
   "metadata": {},
   "outputs": [],
   "source": [
    "# Your code here\n"
   ]
  },
  {
   "cell_type": "markdown",
   "metadata": {},
   "source": [
    "### Exercise 5: Shopping List\n",
    "\n",
    "Create a shopping list with at least 5 items. Then:\n",
    "1. Print the entire list\n",
    "2. Print the first and last items\n",
    "3. Add a new item to the list\n",
    "4. Change one of the items\n",
    "5. Remove an item from the list\n",
    "6. Print the final list"
   ]
  },
  {
   "cell_type": "code",
   "execution_count": null,
   "metadata": {},
   "outputs": [],
   "source": [
    "# Your code here\n"
   ]
  }
 ],
 "metadata": {
  "kernelspec": {
   "display_name": "AktThemen",
   "language": "python",
   "name": "python3"
  },
  "language_info": {
   "codemirror_mode": {
    "name": "ipython",
    "version": 3
   },
   "file_extension": ".py",
   "mimetype": "text/x-python",
   "name": "python",
   "nbconvert_exporter": "python",
   "pygments_lexer": "ipython3",
   "version": "3.12.7"
  }
 },
 "nbformat": 4,
 "nbformat_minor": 4
}
