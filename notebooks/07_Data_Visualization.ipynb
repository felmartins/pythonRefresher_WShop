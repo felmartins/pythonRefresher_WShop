{
 "cells": [
  {
   "cell_type": "markdown",
   "metadata": {},
   "source": [
    "# Data Visualization in Python\n",
    "\n",
    "In this section, we'll learn how to create visualizations using Python's popular libraries: Matplotlib and Seaborn. Data visualization is an essential skill for understanding data patterns, communicating insights, and making data-driven decisions."
   ]
  },
  {
   "cell_type": "markdown",
   "metadata": {},
   "source": [
    "## Introduction to Matplotlib\n",
    "\n",
    "Matplotlib is the most widely used Python library for creating static, animated, and interactive visualizations. It provides a MATLAB-like interface and can create a wide variety of plots and charts."
   ]
  },
  {
   "cell_type": "code",
   "execution_count": null,
   "metadata": {},
   "outputs": [],
   "source": [
    "# Import the necessary libraries\n",
    "import matplotlib.pyplot as plt\n",
    "import numpy as np\n",
    "\n",
    "# Set the style\n",
    "plt.style.use('seaborn-v0_8-whitegrid')\n",
    "\n",
    "# Create some data\n",
    "x = np.linspace(0, 10, 100)  # 100 points from 0 to 10\n",
    "y = np.sin(x)\n",
    "\n",
    "# Create a figure and axis\n",
    "fig, ax = plt.subplots(figsize=(10, 6))\n",
    "\n",
    "# Plot the data\n",
    "ax.plot(x, y, label='sin(x)')\n",
    "\n",
    "# Add labels and title\n",
    "ax.set_xlabel('x')\n",
    "ax.set_ylabel('y')\n",
    "ax.set_title('A Simple Sine Wave')\n",
    "\n",
    "# Add a legend\n",
    "ax.legend()\n",
    "\n",
    "# Show the plot\n",
    "plt.show()"
   ]
  },
  {
   "cell_type": "markdown",
   "metadata": {},
   "source": [
    "### Different Types of Plots with Matplotlib\n",
    "\n",
    "Matplotlib can create various types of plots. Let's explore some of the most common ones."
   ]
  },
  {
   "cell_type": "markdown",
   "metadata": {},
   "source": [
    "#### Line Plot\n",
    "\n",
    "Line plots are useful for showing trends over time or continuous data."
   ]
  },
  {
   "cell_type": "code",
   "execution_count": null,
   "metadata": {},
   "outputs": [],
   "source": [
    "# Create some data\n",
    "years = np.array([2015, 2016, 2017, 2018, 2019, 2020, 2021, 2022])\n",
    "sales = np.array([100, 120, 140, 180, 200, 210, 230, 250])\n",
    "expenses = np.array([90, 100, 120, 140, 160, 180, 190, 200])\n",
    "\n",
    "# Create a figure and axis\n",
    "fig, ax = plt.subplots(figsize=(10, 6))\n",
    "\n",
    "# Plot the data\n",
    "ax.plot(years, sales, marker='o', linestyle='-', color='blue', label='Sales')\n",
    "ax.plot(years, expenses, marker='s', linestyle='--', color='red', label='Expenses')\n",
    "\n",
    "# Add labels and title\n",
    "ax.set_xlabel('Year')\n",
    "ax.set_ylabel('Amount (in thousands $)')\n",
    "ax.set_title('Company Sales and Expenses Over Time')\n",
    "\n",
    "# Add a legend\n",
    "ax.legend()\n",
    "\n",
    "# Add grid\n",
    "ax.grid(True)\n",
    "\n",
    "# Show the plot\n",
    "plt.show()"
   ]
  },
  {
   "cell_type": "markdown",
   "metadata": {},
   "source": [
    "#### Bar Plot\n",
    "\n",
    "Bar plots are great for comparing quantities across different categories."
   ]
  },
  {
   "cell_type": "code",
   "execution_count": null,
   "metadata": {},
   "outputs": [],
   "source": [
    "# Create some data\n",
    "categories = ['Category A', 'Category B', 'Category C', 'Category D', 'Category E']\n",
    "values = [25, 40, 30, 55, 15]\n",
    "\n",
    "# Create a figure and axis\n",
    "fig, ax = plt.subplots(figsize=(10, 6))\n",
    "\n",
    "# Create the bar plot\n",
    "bars = ax.bar(categories, values, color='skyblue')\n",
    "\n",
    "# Add labels and title\n",
    "ax.set_xlabel('Categories')\n",
    "ax.set_ylabel('Values')\n",
    "ax.set_title('Bar Plot Example')\n",
    "\n",
    "# Add value labels on top of each bar\n",
    "for bar in bars:\n",
    "    height = bar.get_height()\n",
    "    ax.text(bar.get_x() + bar.get_width()/2., height + 1,\n",
    "            f'{height}', ha='center', va='bottom')\n",
    "\n",
    "# Show the plot\n",
    "plt.show()"
   ]
  },
  {
   "cell_type": "markdown",
   "metadata": {},
   "source": [
    "#### Scatter Plot\n",
    "\n",
    "Scatter plots are useful for showing the relationship between two variables."
   ]
  },
  {
   "cell_type": "code",
   "execution_count": null,
   "metadata": {},
   "outputs": [],
   "source": [
    "# Create some random data\n",
    "np.random.seed(42)  # For reproducibility\n",
    "x = np.random.rand(50) * 10\n",
    "y = 2 * x + 1 + np.random.randn(50) * 2  # y = 2x + 1 + noise\n",
    "\n",
    "# Create a figure and axis\n",
    "fig, ax = plt.subplots(figsize=(10, 6))\n",
    "\n",
    "# Create the scatter plot\n",
    "scatter = ax.scatter(x, y, c=x, cmap='viridis', s=100, alpha=0.7)\n",
    "\n",
    "# Add labels and title\n",
    "ax.set_xlabel('X')\n",
    "ax.set_ylabel('Y')\n",
    "ax.set_title('Scatter Plot Example')\n",
    "\n",
    "# Add a colorbar\n",
    "plt.colorbar(scatter, label='X value')\n",
    "\n",
    "# Show the plot\n",
    "plt.show()"
   ]
  },
  {
   "cell_type": "markdown",
   "metadata": {},
   "source": [
    "#### Histogram\n",
    "\n",
    "Histograms show the distribution of a dataset."
   ]
  },
  {
   "cell_type": "code",
   "execution_count": null,
   "metadata": {},
   "outputs": [],
   "source": [
    "# Create some random data\n",
    "np.random.seed(42)  # For reproducibility\n",
    "data = np.random.randn(1000)  # 1000 points from a standard normal distribution\n",
    "\n",
    "# Create a figure and axis\n",
    "fig, ax = plt.subplots(figsize=(10, 6))\n",
    "\n",
    "# Create the histogram\n",
    "n, bins, patches = ax.hist(data, bins=30, color='skyblue', alpha=0.7, edgecolor='black')\n",
    "\n",
    "# Add labels and title\n",
    "ax.set_xlabel('Value')\n",
    "ax.set_ylabel('Frequency')\n",
    "ax.set_title('Histogram of Normal Distribution')\n",
    "\n",
    "# Add a grid\n",
    "ax.grid(True, linestyle='--', alpha=0.7)\n",
    "\n",
    "# Show the plot\n",
    "plt.show()"
   ]
  },
  {
   "cell_type": "markdown",
   "metadata": {},
   "source": [
    "#### Pie Chart\n",
    "\n",
    "Pie charts show the proportion of each category in a dataset."
   ]
  },
  {
   "cell_type": "code",
   "execution_count": null,
   "metadata": {},
   "outputs": [],
   "source": [
    "# Create some data\n",
    "categories = ['Category A', 'Category B', 'Category C', 'Category D', 'Category E']\n",
    "sizes = [25, 30, 15, 10, 20]\n",
    "colors = ['#ff9999', '#66b3ff', '#99ff99', '#ffcc99', '#c2c2f0']\n",
    "explode = (0.1, 0, 0, 0, 0)  # Explode the 1st slice (Category A)\n",
    "\n",
    "# Create a figure and axis\n",
    "fig, ax = plt.subplots(figsize=(10, 8))\n",
    "\n",
    "# Create the pie chart\n",
    "ax.pie(sizes, explode=explode, labels=categories, colors=colors, autopct='%1.1f%%',\n",
    "       shadow=True, startangle=90)\n",
    "\n",
    "# Equal aspect ratio ensures that pie is drawn as a circle\n",
    "ax.axis('equal')\n",
    "\n",
    "# Add title\n",
    "ax.set_title('Pie Chart Example')\n",
    "\n",
    "# Show the plot\n",
    "plt.show()"
   ]
  },
  {
   "cell_type": "markdown",
   "metadata": {},
   "source": [
    "### Subplots\n",
    "\n",
    "Matplotlib allows you to create multiple plots in a single figure using subplots."
   ]
  },
  {
   "cell_type": "code",
   "execution_count": null,
   "metadata": {},
   "outputs": [],
   "source": [
    "# Create a figure with 2 rows and 2 columns of subplots\n",
    "fig, axs = plt.subplots(2, 2, figsize=(12, 10))\n",
    "\n",
    "# Line plot (top-left)\n",
    "axs[0, 0].plot(x, np.sin(x), label='sin(x)')\n",
    "axs[0, 0].plot(x, np.cos(x), label='cos(x)')\n",
    "axs[0, 0].set_title('Line Plot')\n",
    "axs[0, 0].legend()\n",
    "\n",
    "# Bar plot (top-right)\n",
    "axs[0, 1].bar(categories, values, color='skyblue')\n",
    "axs[0, 1].set_title('Bar Plot')\n",
    "\n",
    "# Scatter plot (bottom-left)\n",
    "axs[1, 0].scatter(x[:30], y[:30], color='green', alpha=0.7)\n",
    "axs[1, 0].set_title('Scatter Plot')\n",
    "\n",
    "# Histogram (bottom-right)\n",
    "axs[1, 1].hist(data, bins=20, color='purple', alpha=0.7)\n",
    "axs[1, 1].set_title('Histogram')\n",
    "\n",
    "# Adjust layout\n",
    "plt.tight_layout()\n",
    "\n",
    "# Show the plot\n",
    "plt.show()"
   ]
  },
  {
   "cell_type": "markdown",
   "metadata": {},
   "source": [
    "## Introduction to Seaborn\n",
    "\n",
    "Seaborn is a statistical data visualization library based on Matplotlib. It provides a high-level interface for drawing attractive and informative statistical graphics."
   ]
  },
  {
   "cell_type": "code",
   "execution_count": null,
   "metadata": {},
   "outputs": [],
   "source": [
    "# Import seaborn\n",
    "import seaborn as sns\n",
    "\n",
    "# Set the style\n",
    "sns.set_style(\"whitegrid\")\n",
    "\n",
    "# Load a sample dataset\n",
    "tips = sns.load_dataset(\"tips\")\n",
    "\n",
    "# Display the first few rows of the dataset\n",
    "tips.head()"
   ]
  },
  {
   "cell_type": "markdown",
   "metadata": {},
   "source": [
    "### Seaborn Plot Types\n",
    "\n",
    "Let's explore some of the most common plot types in Seaborn."
   ]
  },
  {
   "cell_type": "markdown",
   "metadata": {},
   "source": [
    "#### Scatter Plot with Regression Line (regplot)"
   ]
  },
  {
   "cell_type": "code",
   "execution_count": null,
   "metadata": {},
   "outputs": [],
   "source": [
    "# Create a figure\n",
    "plt.figure(figsize=(10, 6))\n",
    "\n",
    "# Create a scatter plot with regression line\n",
    "sns.regplot(x=\"total_bill\", y=\"tip\", data=tips, scatter_kws={\"color\": \"blue\"}, line_kws={\"color\": \"red\"})\n",
    "\n",
    "# Add labels and title\n",
    "plt.xlabel('Total Bill ($)')\n",
    "plt.ylabel('Tip ($)')\n",
    "plt.title('Relationship Between Total Bill and Tip')\n",
    "\n",
    "# Show the plot\n",
    "plt.show()"
   ]
  },
  {
   "cell_type": "markdown",
   "metadata": {},
   "source": [
    "#### Categorical Plot (boxplot)"
   ]
  },
  {
   "cell_type": "code",
   "execution_count": null,
   "metadata": {},
   "outputs": [],
   "source": [
    "# Create a figure\n",
    "plt.figure(figsize=(10, 6))\n",
    "\n",
    "# Create a boxplot\n",
    "sns.boxplot(x=\"day\", y=\"total_bill\", data=tips, palette=\"Set3\")\n",
    "\n",
    "# Add labels and title\n",
    "plt.xlabel('Day')\n",
    "plt.ylabel('Total Bill ($)')\n",
    "plt.title('Distribution of Total Bill by Day')\n",
    "\n",
    "# Show the plot\n",
    "plt.show()"
   ]
  },
  {
   "cell_type": "markdown",
   "metadata": {},
   "source": [
    "#### Violin Plot\n",
    "\n",
    "Violin plots combine aspects of box plots and kernel density plots."
   ]
  },
  {
   "cell_type": "code",
   "execution_count": null,
   "metadata": {},
   "outputs": [],
   "source": [
    "# Create a figure\n",
    "plt.figure(figsize=(10, 6))\n",
    "\n",
    "# Create a violin plot\n",
    "sns.violinplot(x=\"day\", y=\"total_bill\", hue=\"sex\", data=tips, palette=\"Set2\", split=True)\n",
    "\n",
    "# Add labels and title\n",
    "plt.xlabel('Day')\n",
    "plt.ylabel('Total Bill ($)')\n",
    "plt.title('Distribution of Total Bill by Day and Gender')\n",
    "\n",
    "# Show the plot\n",
    "plt.show()"
   ]
  },
  {
   "cell_type": "markdown",
   "metadata": {},
   "source": [
    "#### Pair Plot\n",
    "\n",
    "Pair plots show pairwise relationships between variables in a dataset."
   ]
  },
  {
   "cell_type": "code",
   "execution_count": null,
   "metadata": {},
   "outputs": [],
   "source": [
    "# Create a pair plot\n",
    "sns.pairplot(tips, hue=\"sex\", palette=\"Set1\")\n",
    "\n",
    "# Add a title\n",
    "plt.suptitle('Pairwise Relationships in Tips Dataset', y=1.02)\n",
    "\n",
    "# Show the plot\n",
    "plt.show()"
   ]
  },
  {
   "cell_type": "markdown",
   "metadata": {},
   "source": [
    "#### Heatmap\n",
    "\n",
    "Heatmaps are useful for visualizing the correlation between variables."
   ]
  },
  {
   "cell_type": "code",
   "execution_count": null,
   "metadata": {},
   "outputs": [],
   "source": [
    "# Calculate the correlation matrix\n",
    "corr = tips.corr()\n",
    "\n",
    "# Create a figure\n",
    "plt.figure(figsize=(8, 6))\n",
    "\n",
    "# Create a heatmap\n",
    "sns.heatmap(corr, annot=True, cmap=\"coolwarm\", vmin=-1, vmax=1, center=0,\n",
    "            square=True, linewidths=.5, cbar_kws={\"shrink\": .8})\n",
    "\n",
    "# Add a title\n",
    "plt.title('Correlation Matrix of Tips Dataset')\n",
    "\n",
    "# Show the plot\n",
    "plt.show()"
   ]
  },
  {
   "cell_type": "markdown",
   "metadata": {},
   "source": [
    "#### Count Plot\n",
    "\n",
    "Count plots show the counts of observations in each categorical bin."
   ]
  },
  {
   "cell_type": "code",
   "execution_count": null,
   "metadata": {},
   "outputs": [],
   "source": [
    "# Create a figure\n",
    "plt.figure(figsize=(10, 6))\n",
    "\n",
    "# Create a count plot\n",
    "sns.countplot(x=\"day\", hue=\"time\", data=tips, palette=\"pastel\")\n",
    "\n",
    "# Add labels and title\n",
    "plt.xlabel('Day')\n",
    "plt.ylabel('Count')\n",
    "plt.title('Count of Meals by Day and Time')\n",
    "\n",
    "# Show the plot\n",
    "plt.show()"
   ]
  },
  {
   "cell_type": "markdown",
   "metadata": {},
   "source": [
    "## Real-World Example: Analyzing a Dataset\n",
    "\n",
    "Let's analyze a real-world dataset using both Matplotlib and Seaborn. We'll use the Iris dataset, which contains measurements of iris flowers."
   ]
  },
  {
   "cell_type": "code",
   "execution_count": null,
   "metadata": {},
   "outputs": [],
   "source": [
    "# Load the Iris dataset\n",
    "iris = sns.load_dataset(\"iris\")\n",
    "\n",
    "# Display the first few rows\n",
    "iris.head()"
   ]
  },
  {
   "cell_type": "code",
   "execution_count": null,
   "metadata": {},
   "outputs": [],
   "source": [
    "# Get basic statistics\n",
    "iris.describe()"
   ]
  },
  {
   "cell_type": "code",
   "execution_count": null,
   "metadata": {},
   "outputs": [],
   "source": [
    "# Count the number of each species\n",
    "iris[\"species\"].value_counts()"
   ]
  },
  {
   "cell_type": "code",
   "execution_count": null,
   "metadata": {},
   "outputs": [],
   "source": [
    "# Create a pair plot to visualize relationships between features\n",
    "sns.pairplot(iris, hue=\"species\", palette=\"viridis\")\n",
    "plt.suptitle('Pairwise Relationships in Iris Dataset', y=1.02)\n",
    "plt.show()"
   ]
  },
  {
   "cell_type": "code",
   "execution_count": null,
   "metadata": {},
   "outputs": [],
   "source": [
    "# Create a figure with 2 rows and 2 columns\n",
    "fig, axs = plt.subplots(2, 2, figsize=(14, 10))\n",
    "\n",
    "# Sepal Length distribution by species\n",
    "sns.boxplot(x=\"species\", y=\"sepal_length\", data=iris, ax=axs[0, 0])\n",
    "axs[0, 0].set_title('Sepal Length by Species')\n",
    "\n",
    "# Sepal Width distribution by species\n",
    "sns.boxplot(x=\"species\", y=\"sepal_width\", data=iris, ax=axs[0, 1])\n",
    "axs[0, 1].set_title('Sepal Width by Species')\n",
    "\n",
    "# Petal Length distribution by species\n",
    "sns.boxplot(x=\"species\", y=\"petal_length\", data=iris, ax=axs[1, 0])\n",
    "axs[1, 0].set_title('Petal Length by Species')\n",
    "\n",
    "# Petal Width distribution by species\n",
    "sns.boxplot(x=\"species\", y=\"petal_width\", data=iris, ax=axs[1, 1])\n",
    "axs[1, 1].set_title('Petal Width by Species')\n",
    "\n",
    "# Adjust layout\n",
    "plt.tight_layout()\n",
    "plt.suptitle('Iris Features by Species', y=1.02, fontsize=16)\n",
    "plt.show()"
   ]
  },
  {
   "cell_type": "code",
   "execution_count": null,
   "metadata": {},
   "outputs": [],
   "source": [
    "# Create a correlation matrix\n",
    "corr = iris.drop('species', axis=1).corr()\n",
    "\n",
    "# Create a heatmap\n",
    "plt.figure(figsize=(10, 8))\n",
    "sns.heatmap(corr, annot=True, cmap=\"coolwarm\", vmin=-1, vmax=1, center=0,\n",
    "            square=True, linewidths=.5, cbar_kws={\"shrink\": .8})\n",
    "plt.title('Correlation Matrix of Iris Features')\n",
    "plt.show()"
   ]
  },
  {
   "cell_type": "code",
   "execution_count": null,
   "metadata": {},
   "outputs": [],
   "source": [
    "# Create a scatter plot with different colors for each species\n",
    "plt.figure(figsize=(10, 8))\n",
    "sns.scatterplot(x=\"sepal_length\", y=\"sepal_width\", hue=\"species\", \n",
    "                size=\"petal_width\", sizes=(20, 200), \n",
    "                data=iris, palette=\"viridis\")\n",
    "plt.title('Sepal Length vs Sepal Width (size represents Petal Width)')\n",
    "plt.show()"
   ]
  },
  {
   "cell_type": "code",
   "execution_count": null,
   "metadata": {},
   "outputs": [],
   "source": [
    "# Create a scatter plot with different colors for each species\n",
    "plt.figure(figsize=(10, 8))\n",
    "sns.scatterplot(x=\"petal_length\", y=\"petal_width\", hue=\"species\", \n",
    "                style=\"species\", s=100, \n",
    "                data=iris, palette=\"viridis\")\n",
    "plt.title('Petal Length vs Petal Width')\n",
    "plt.show()"
   ]
  },
  {
   "cell_type": "markdown",
   "metadata": {},
   "source": [
    "## Saving Visualizations\n",
    "\n",
    "You can save your visualizations to various file formats, such as PNG, JPG, PDF, and SVG."
   ]
  },
  {
   "cell_type": "code",
   "execution_count": null,
   "metadata": {},
   "outputs": [],
   "source": [
    "# Create a visualization\n",
    "plt.figure(figsize=(10, 6))\n",
    "sns.boxplot(x=\"species\", y=\"petal_length\", data=iris, palette=\"Set2\")\n",
    "plt.title('Petal Length by Species')\n",
    "\n",
    "# Save the figure\n",
    "plt.savefig('petal_length_by_species.png', dpi=300, bbox_inches='tight')\n",
    "plt.show()"
   ]
  },
  {
   "cell_type": "markdown",
   "metadata": {},
   "source": [
    "## Practice Exercise\n",
    "\n",
    "Let's practice what we've learned with an exercise:"
   ]
  },
  {
   "cell_type": "markdown",
   "metadata": {},
   "source": [
    "### Exercise: Visualizing Titanic Dataset\n",
    "\n",
    "The Titanic dataset contains information about passengers on the Titanic, including whether they survived or not. Your task is to create visualizations to explore this dataset and gain insights."
   ]
  },
  {
   "cell_type": "code",
   "execution_count": null,
   "metadata": {},
   "outputs": [],
   "source": [
    "# Load the Titanic dataset\n",
    "titanic = sns.load_dataset(\"titanic\")\n",
    "\n",
    "# Display the first few rows\n",
    "titanic.head()"
   ]
  },
  {
   "cell_type": "code",
   "execution_count": null,
   "metadata": {},
   "outputs": [],
   "source": [
    "# Your code here\n",
    "# Create visualizations to explore the Titanic dataset\n",
    "# Some ideas:\n",
    "# 1. Survival rate by passenger class\n",
    "# 2. Survival rate by gender\n",
    "# 3. Age distribution of passengers\n",
    "# 4. Fare distribution\n",
    "# 5. Correlation between variables\n"
   ]
  }
 ],
 "metadata": {
  "kernelspec": {
   "display_name": "Python 3",
   "language": "python",
   "name": "python3"
  },
  "language_info": {
   "codemirror_mode": {
    "name": "ipython",
    "version": 3
   },
   "file_extension": ".py",
   "mimetype": "text/x-python",
   "name": "python",
   "nbconvert_exporter": "python",
   "pygments_lexer": "ipython3",
   "version": "3.8.8"
  }
 },
 "nbformat": 4,
 "nbformat_minor": 4
} 