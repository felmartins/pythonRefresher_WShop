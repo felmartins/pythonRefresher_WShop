{
 "cells": [
  {
   "cell_type": "markdown",
   "metadata": {},
   "source": [
    "# Variables, Strings, and Numbers\n",
    "\n",
    "In this section, we'll learn about the basic building blocks of Python programming: variables, strings, and numbers. These concepts are fundamental to understanding how Python works."
   ]
  },
  {
   "cell_type": "markdown",
   "metadata": {},
   "source": [
    "## What are Variables and Why Do We Need Them?\n",
    "\n",
    "In programming, a variable is like a labeled container that stores information. Think of it as a box with a name tag where you can put different things.\n",
    "\n",
    "Why do we need variables?\n",
    "- They let us store and reuse information\n",
    "- They make our code more readable by giving meaningful names to data\n",
    "- They allow our programs to work with changing information\n",
    "\n",
    "For example, instead of writing the same value multiple times, we can store it in a variable and use the variable name whenever we need that value."
   ]
  },
  {
   "cell_type": "markdown",
   "metadata": {},
   "source": [
    "## Creating Variables in Python\n",
    "\n",
    "In Python, creating a variable is simple - you just give it a name, use the equals sign (=), and provide a value:"
   ]
  },
  {
   "cell_type": "code",
   "execution_count": 1,
   "metadata": {},
   "outputs": [
    {
     "name": "stdout",
     "output_type": "stream",
     "text": [
      "Hello, Python world!\n"
     ]
    }
   ],
   "source": [
    "message = \"Hello, Python world!\"\n",
    "print(message)"
   ]
  },
  {
   "cell_type": "markdown",
   "metadata": {},
   "source": [
    "You can change what's stored in a variable at any time:"
   ]
  },
  {
   "cell_type": "code",
   "execution_count": 2,
   "metadata": {},
   "outputs": [
    {
     "name": "stdout",
     "output_type": "stream",
     "text": [
      "Hello, Python world!\n",
      "Python is amazing!\n"
     ]
    }
   ],
   "source": [
    "message = \"Hello, Python world!\"\n",
    "print(message)\n",
    "\n",
    "message = \"Python is amazing!\"\n",
    "print(message)"
   ]
  },
  {
   "cell_type": "markdown",
   "metadata": {},
   "source": [
    "## Variable Naming Rules\n",
    "\n",
    "When naming variables in Python, there are some rules to follow:\n",
    "\n",
    "1. Variable names can contain letters, numbers, and underscores (_)\n",
    "2. Variable names cannot start with a number\n",
    "3. Variable names cannot contain spaces\n",
    "4. Variable names are case-sensitive (`name` and `Name` are different variables)\n",
    "5. Variable names should be descriptive and meaningful\n",
    "6. Avoid using Python keywords (like `print`, `if`, `for`, etc.) as variable names"
   ]
  },
  {
   "cell_type": "code",
   "execution_count": 3,
   "metadata": {},
   "outputs": [
    {
     "name": "stdout",
     "output_type": "stream",
     "text": [
      "John\n",
      "95\n",
      "True\n"
     ]
    }
   ],
   "source": [
    "# Examples of good variable names\n",
    "user_name = \"John\"\n",
    "total_score = 95\n",
    "is_active = True\n",
    "\n",
    "print(user_name)\n",
    "print(total_score)\n",
    "print(is_active)"
   ]
  },
  {
   "cell_type": "code",
   "execution_count": 4,
   "metadata": {},
   "outputs": [
    {
     "name": "stdout",
     "output_type": "stream",
     "text": [
      "John\n"
     ]
    }
   ],
   "source": [
    "# Examples of names to avoid\n",
    "x = \"John\"  # Too short, not descriptive\n",
    "print(x)\n",
    "\n",
    "# The following would cause errors if uncommented:\n",
    "# 1name = \"John\"  # Cannot start with a number\n",
    "# user-name = \"John\"  # Cannot use hyphens\n",
    "# user name = \"John\"  # Cannot contain spaces"
   ]
  },
  {
   "cell_type": "markdown",
   "metadata": {},
   "source": [
    "## What are Strings?\n",
    "\n",
    "Strings are sequences of characters (letters, numbers, symbols) enclosed in quotes. They're how we represent text in Python.\n",
    "\n",
    "You can use either single quotes (') or double quotes (\") to create strings:"
   ]
  },
  {
   "cell_type": "code",
   "execution_count": 5,
   "metadata": {},
   "outputs": [
    {
     "name": "stdout",
     "output_type": "stream",
     "text": [
      "This is a string.\n",
      "This is also a string.\n"
     ]
    }
   ],
   "source": [
    "message1 = \"This is a string.\"\n",
    "message2 = 'This is also a string.'\n",
    "\n",
    "print(message1)\n",
    "print(message2)"
   ]
  },
  {
   "cell_type": "markdown",
   "metadata": {},
   "source": [
    "### When to Use Single vs. Double Quotes\n",
    "\n",
    "Both work the same way, but there are cases where one is more convenient than the other:\n",
    "- Use double quotes when your text contains single quotes (apostrophes)\n",
    "- Use single quotes when your text contains double quotes"
   ]
  },
  {
   "cell_type": "code",
   "execution_count": 6,
   "metadata": {},
   "outputs": [
    {
     "name": "stdout",
     "output_type": "stream",
     "text": [
      "I'm learning Python.\n",
      "He said, \"Python is fun!\"\n"
     ]
    }
   ],
   "source": [
    "# Using double quotes when the string contains apostrophes\n",
    "message = \"I'm learning Python.\"\n",
    "print(message)\n",
    "\n",
    "# Using single quotes when the string contains double quotes\n",
    "message = 'He said, \"Python is fun!\"'\n",
    "print(message)"
   ]
  },
  {
   "cell_type": "markdown",
   "metadata": {},
   "source": [
    "## Working with Strings\n",
    "\n",
    "Python provides many ways to work with strings. Let's explore some common operations:"
   ]
  },
  {
   "cell_type": "markdown",
   "metadata": {},
   "source": [
    "### Changing Case\n",
    "\n",
    "Python provides methods to change the case of strings:"
   ]
  },
  {
   "cell_type": "code",
   "execution_count": 7,
   "metadata": {},
   "outputs": [
    {
     "name": "stdout",
     "output_type": "stream",
     "text": [
      "John Doe\n",
      "JOHN DOE\n",
      "john doe\n"
     ]
    }
   ],
   "source": [
    "name = \"john doe\"\n",
    "\n",
    "# Convert to title case (capitalize first letter of each word)\n",
    "print(name.title())  # John Doe\n",
    "\n",
    "# Convert to all uppercase\n",
    "print(name.upper())  # JOHN DOE\n",
    "\n",
    "# Convert to all lowercase\n",
    "print(name.lower())  # john doe"
   ]
  },
  {
   "cell_type": "markdown",
   "metadata": {},
   "source": [
    "### Combining Strings (Concatenation)\n",
    "\n",
    "You can combine strings using the + operator:"
   ]
  },
  {
   "cell_type": "code",
   "execution_count": 8,
   "metadata": {},
   "outputs": [
    {
     "name": "stdout",
     "output_type": "stream",
     "text": [
      "John Doe\n"
     ]
    }
   ],
   "source": [
    "first_name = \"John\"\n",
    "last_name = \"Doe\"\n",
    "full_name = first_name + \" \" + last_name\n",
    "\n",
    "print(full_name)  # John Doe"
   ]
  },
  {
   "cell_type": "markdown",
   "metadata": {},
   "source": [
    "### String Formatting (f-strings)\n",
    "\n",
    "A more readable way to combine strings and variables is using f-strings (available in Python 3.6+):"
   ]
  },
  {
   "cell_type": "code",
   "execution_count": 9,
   "metadata": {},
   "outputs": [
    {
     "name": "stdout",
     "output_type": "stream",
     "text": [
      "My name is John and I am 30 years old.\n"
     ]
    }
   ],
   "source": [
    "name = \"John\"\n",
    "age = 30\n",
    "message = f\"My name is {name} and I am {age} years old.\"\n",
    "print(message)"
   ]
  },
  {
   "cell_type": "markdown",
   "metadata": {},
   "source": [
    "This is much easier to read than concatenation, especially when you have multiple variables."
   ]
  },
  {
   "cell_type": "markdown",
   "metadata": {},
   "source": [
    "### Whitespace in Strings\n",
    "\n",
    "Whitespace refers to characters that don't appear on the screen, like spaces, tabs, and newlines. You can add whitespace to strings using special characters:"
   ]
  },
  {
   "cell_type": "code",
   "execution_count": 10,
   "metadata": {},
   "outputs": [
    {
     "name": "stdout",
     "output_type": "stream",
     "text": [
      "Python\n",
      "\tPython\n",
      "Languages:\n",
      "Python\n",
      "JavaScript\n",
      "Java\n"
     ]
    }
   ],
   "source": [
    "# Add a tab\n",
    "print(\"Python\")\n",
    "print(\"\\tPython\")  # \\t represents a tab\n",
    "\n",
    "# Add a newline\n",
    "print(\"Languages:\\nPython\\nJavaScript\\nJava\")  # \\n represents a new line"
   ]
  },
  {
   "cell_type": "markdown",
   "metadata": {},
   "source": [
    "### Removing Whitespace\n",
    "\n",
    "Sometimes strings have extra whitespace that you want to remove:"
   ]
  },
  {
   "cell_type": "code",
   "execution_count": 11,
   "metadata": {},
   "outputs": [
    {
     "name": "stdout",
     "output_type": "stream",
     "text": [
      "Original: ' Python '\n",
      "After strip(): 'Python'\n",
      "After lstrip(): 'Python '\n",
      "After rstrip(): ' Python'\n"
     ]
    }
   ],
   "source": [
    "language = \" Python \"\n",
    "\n",
    "print(f\"Original: '{language}'\")\n",
    "print(f\"After strip(): '{language.strip()}'\")\n",
    "print(f\"After lstrip(): '{language.lstrip()}'\")\n",
    "print(f\"After rstrip(): '{language.rstrip()}'\")"
   ]
  },
  {
   "cell_type": "markdown",
   "metadata": {},
   "source": [
    "### Finding and Replacing Text"
   ]
  },
  {
   "cell_type": "code",
   "execution_count": 12,
   "metadata": {},
   "outputs": [
    {
     "name": "stdout",
     "output_type": "stream",
     "text": [
      "True\n",
      "False\n",
      "Python is a fantastic programming language.\n"
     ]
    }
   ],
   "source": [
    "sentence = \"Python is a great programming language.\"\n",
    "\n",
    "# Check if a string contains a substring\n",
    "print(\"Python\" in sentence)  # True\n",
    "print(\"Java\" in sentence)    # False\n",
    "\n",
    "# Replace a substring\n",
    "new_sentence = sentence.replace(\"great\", \"fantastic\")\n",
    "print(new_sentence)"
   ]
  },
  {
   "cell_type": "markdown",
   "metadata": {},
   "source": [
    "## What are Numbers in Python?\n",
    "\n",
    "Python has several types of numbers. The two most common are:\n",
    "\n",
    "1. **Integers** - Whole numbers without a decimal point\n",
    "2. **Floating-point numbers** - Numbers with a decimal point\n",
    "\n",
    "Let's look at how to work with these types:"
   ]
  },
  {
   "cell_type": "markdown",
   "metadata": {},
   "source": [
    "### Integers\n",
    "\n",
    "Whole numbers without a decimal point. Integers can be positive, negative, or zero (e.g., -3, 0, 42) and have no fractional part."
   ]
  },
  {
   "cell_type": "code",
   "execution_count": 13,
   "metadata": {},
   "outputs": [
    {
     "name": "stdout",
     "output_type": "stream",
     "text": [
      "25\n",
      "7800000000\n"
     ]
    }
   ],
   "source": [
    "age = 25\n",
    "population = 7_800_000_000  # Underscores make large numbers more readable\n",
    "\n",
    "print(age)\n",
    "print(population)"
   ]
  },
  {
   "cell_type": "markdown",
   "metadata": {},
   "source": [
    "### Floating-Point Numbers\n",
    "\n",
    "Numbers with a decimal point. Floats are used to represent real numbers (e.g., 3.14159, -0.5, 2.0). They are key for some more complex operations, such as how Large Language Model`s transform text into numeric representations."
   ]
  },
  {
   "cell_type": "code",
   "execution_count": 24,
   "metadata": {},
   "outputs": [
    {
     "name": "stdout",
     "output_type": "stream",
     "text": [
      "3.14159\n",
      "-2.5\n"
     ]
    }
   ],
   "source": [
    "pi = 3.14159\n",
    "temperature = -2.5\n",
    "\n",
    "print(pi)\n",
    "print(temperature)"
   ]
  },
  {
   "cell_type": "markdown",
   "metadata": {},
   "source": [
    "## Basic Arithmetic Operations\n",
    "\n",
    "Python supports all the basic arithmetic operations you'd expect:"
   ]
  },
  {
   "cell_type": "code",
   "execution_count": 15,
   "metadata": {},
   "outputs": [
    {
     "name": "stdout",
     "output_type": "stream",
     "text": [
      "2 + 3 = 5\n",
      "5 - 2 = 3\n",
      "3 * 4 = 12\n",
      "10 / 2 = 5.0\n",
      "10 // 3 = 3\n",
      "10 % 3 = 1\n",
      "2 ** 3 = 8\n"
     ]
    }
   ],
   "source": [
    "# Addition\n",
    "print(\"2 + 3 =\", 2 + 3)\n",
    "\n",
    "# Subtraction\n",
    "print(\"5 - 2 =\", 5 - 2)\n",
    "\n",
    "# Multiplication\n",
    "print(\"3 * 4 =\", 3 * 4)\n",
    "\n",
    "# Division (always returns a float)\n",
    "print(\"10 / 2 =\", 10 / 2)\n",
    "\n",
    "# Integer division (returns an integer, discards remainder)\n",
    "print(\"10 // 3 =\", 10 // 3)\n",
    "\n",
    "# Modulo (remainder)\n",
    "print(\"10 % 3 =\", 10 % 3)\n",
    "\n",
    "# Exponentiation (power)\n",
    "print(\"2 ** 3 =\", 2 ** 3)"
   ]
  },
  {
   "cell_type": "markdown",
   "metadata": {},
   "source": [
    "### Order of Operations\n",
    "\n",
    "Python follows the standard order of operations (PEMDAS):\n",
    "1. **P**arentheses\n",
    "2. **E**xponents\n",
    "3. **M**ultiplication and **D**ivision (from left to right)\n",
    "4. **A**ddition and **S**ubtraction (from left to right)"
   ]
  },
  {
   "cell_type": "code",
   "execution_count": 16,
   "metadata": {},
   "outputs": [
    {
     "name": "stdout",
     "output_type": "stream",
     "text": [
      "2 + 3 * 4 = 14\n",
      "(2 + 3) * 4 = 20\n"
     ]
    }
   ],
   "source": [
    "print(\"2 + 3 * 4 =\", 2 + 3 * 4)  # 3 * 4 = 12, then 2 + 12 = 14\n",
    "print(\"(2 + 3) * 4 =\", (2 + 3) * 4)  # 2 + 3 = 5, then 5 * 4 = 20"
   ]
  },
  {
   "cell_type": "markdown",
   "metadata": {},
   "source": [
    "## Converting Between Types\n",
    "\n",
    "Sometimes you need to convert between different data types. Python provides built-in functions for this:"
   ]
  },
  {
   "cell_type": "code",
   "execution_count": 17,
   "metadata": {},
   "outputs": [
    {
     "name": "stdout",
     "output_type": "stream",
     "text": [
      "30\n",
      "I am 25 years old.\n",
      "6.28318\n"
     ]
    }
   ],
   "source": [
    "# Convert string to integer\n",
    "age_str = \"25\"\n",
    "age_int = int(age_str)\n",
    "print(age_int + 5)  # 30\n",
    "\n",
    "# Convert integer to string\n",
    "age = 25\n",
    "age_str = str(age)\n",
    "print(\"I am \" + age_str + \" years old.\")\n",
    "\n",
    "# Convert string to float\n",
    "pi_str = \"3.14159\"\n",
    "pi_float = float(pi_str)\n",
    "print(pi_float * 2)  # 6.28318"
   ]
  },
  {
   "cell_type": "markdown",
   "metadata": {},
   "source": [
    "### Why Do We Need Type Conversion?\n",
    "\n",
    "Type conversion is necessary in many situations:\n",
    "\n",
    "1. When you get input from users (it comes as strings)\n",
    "2. When you need to combine strings and numbers\n",
    "3. When you need to perform calculations with numbers stored as strings\n",
    "4. When you need to display numbers as part of a message"
   ]
  },
  {
   "cell_type": "markdown",
   "metadata": {},
   "source": [
    "## Comments in Python\n",
    "\n",
    "Comments are notes that you add to your code to explain what it does. Python ignores comments when running your code.\n",
    "\n",
    "Comments are created using the # symbol:"
   ]
  },
  {
   "cell_type": "code",
   "execution_count": 18,
   "metadata": {},
   "outputs": [],
   "source": [
    "# This is a comment\n",
    "name = \"John\"  # This is also a comment\n",
    "\n",
    "# You can use comments to explain your code\n",
    "# or to temporarily disable code\n",
    "# print(\"This line won't run because it's commented out.\")"
   ]
  },
  {
   "cell_type": "markdown",
   "metadata": {},
   "source": [
    "## Practice Exercises\n",
    "\n",
    "Let's practice what we've learned with a few exercises:"
   ]
  },
  {
   "cell_type": "markdown",
   "metadata": {},
   "source": [
    "### Exercise 1: Personal Message\n",
    "\n",
    "Store a person's name in a variable, and print a message to that person."
   ]
  },
  {
   "cell_type": "code",
   "execution_count": 19,
   "metadata": {},
   "outputs": [],
   "source": [
    "# Your code here\n"
   ]
  },
  {
   "cell_type": "markdown",
   "metadata": {},
   "source": [
    "### Exercise 2: Name Cases\n",
    "\n",
    "Store a person's name in a variable, and then print that person's name in lowercase, uppercase, and titlecase."
   ]
  },
  {
   "cell_type": "code",
   "execution_count": 20,
   "metadata": {},
   "outputs": [],
   "source": [
    "# Your code here\n"
   ]
  },
  {
   "cell_type": "markdown",
   "metadata": {},
   "source": [
    "### Exercise 3: Famous Quote\n",
    "\n",
    "Find a quote from a famous person you admire. Print the quote and the name of its author. Your output should look something like the following, including the quotation marks:\n",
    "\n",
    "```\n",
    "Albert Einstein once said, \"A person who never made a mistake never tried anything new.\"\n",
    "```"
   ]
  },
  {
   "cell_type": "code",
   "execution_count": 21,
   "metadata": {},
   "outputs": [],
   "source": [
    "# Your code here\n"
   ]
  },
  {
   "cell_type": "markdown",
   "metadata": {},
   "source": [
    "### Exercise 4: Simple Calculations\n",
    "\n",
    "Write a program that calculates and prints the following:\n",
    "1. The sum of 5 + 3\n",
    "2. The difference of 10 - 2\n",
    "3. The product of 4 * 2\n",
    "4. The quotient of 16 / 2"
   ]
  },
  {
   "cell_type": "code",
   "execution_count": 22,
   "metadata": {},
   "outputs": [],
   "source": [
    "# Your code here\n"
   ]
  },
  {
   "cell_type": "markdown",
   "metadata": {},
   "source": [
    "### Exercise 5: String Formatting\n",
    "\n",
    "Create variables for a person's name, age, and city. Then use f-strings to print a sentence that includes all this information."
   ]
  },
  {
   "cell_type": "code",
   "execution_count": 23,
   "metadata": {},
   "outputs": [],
   "source": [
    "# Your code here\n"
   ]
  }
 ],
 "metadata": {
  "kernelspec": {
   "display_name": "AktThemen",
   "language": "python",
   "name": "python3"
  },
  "language_info": {
   "codemirror_mode": {
    "name": "ipython",
    "version": 3
   },
   "file_extension": ".py",
   "mimetype": "text/x-python",
   "name": "python",
   "nbconvert_exporter": "python",
   "pygments_lexer": "ipython3",
   "version": "3.12.7"
  }
 },
 "nbformat": 4,
 "nbformat_minor": 4
}
