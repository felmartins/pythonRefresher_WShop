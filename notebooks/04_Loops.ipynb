{
 "cells": [
  {
   "cell_type": "markdown",
   "metadata": {},
   "source": [
    "# Loops\n",
    "\n",
    "In this section, we'll learn about loops in Python. Loops allow you to repeat a block of code multiple times, which is essential for automating repetitive tasks."
   ]
  },
  {
   "cell_type": "markdown",
   "metadata": {},
   "source": [
    "## What are Loops and Why Do We Need Them?\n",
    "\n",
    "Imagine you need to print the numbers from 1 to 10. You could write 10 separate print statements, but that would be tedious and inefficient. What if you needed to print numbers from 1 to 1000? That would be impractical to do manually.\n",
    "\n",
    "This is where loops come in. Loops allow you to execute a block of code repeatedly, making your programs more efficient and your code more concise.\n",
    "\n",
    "In Python, there are two main types of loops:\n",
    "1. **For loops**: Used when you know in advance how many times you want to execute a block of code\n",
    "2. **While loops**: Used when you want to repeat a block of code as long as a certain condition is true"
   ]
  },
  {
   "cell_type": "markdown",
   "metadata": {},
   "source": [
    "## For Loops\n",
    "\n",
    "A `for` loop is used to iterate over a sequence (like a list, tuple, dictionary, set, or string) and execute a block of code for each item in the sequence."
   ]
  },
  {
   "cell_type": "code",
   "execution_count": 23,
   "metadata": {},
   "outputs": [
    {
     "name": "stdout",
     "output_type": "stream",
     "text": [
      "1\n",
      "2\n",
      "3\n",
      "4\n",
      "5\n"
     ]
    }
   ],
   "source": [
    "# Basic for loop\n",
    "for number in [1, 2, 3, 4, 5]:\n",
    "    print(number)"
   ]
  },
  {
   "cell_type": "markdown",
   "metadata": {},
   "source": [
    "In this example:\n",
    "1. We have a list of numbers: `[1, 2, 3, 4, 5]`\n",
    "2. The `for` loop goes through each number in the list\n",
    "3. For each number, it executes the indented code block (in this case, printing the number)\n",
    "\n",
    "Notice the structure of the `for` loop:\n",
    "- It starts with the keyword `for`\n",
    "- Then comes a variable name (`number` in this case) that will hold each item from the sequence\n",
    "- Then the keyword `in`\n",
    "- Then the sequence to iterate over\n",
    "- The line ends with a colon `:`\n",
    "- The code to execute for each item is indented (usually by 4 spaces)"
   ]
  },
  {
   "cell_type": "markdown",
   "metadata": {},
   "source": [
    "### Using the `range()` Function\n",
    "\n",
    "The `range()` function is commonly used with `for` loops to generate a sequence of numbers. It's especially useful when you want to repeat an action a specific number of times."
   ]
  },
  {
   "cell_type": "code",
   "execution_count": 24,
   "metadata": {},
   "outputs": [
    {
     "name": "stdout",
     "output_type": "stream",
     "text": [
      "0\n",
      "1\n",
      "2\n",
      "3\n",
      "4\n"
     ]
    }
   ],
   "source": [
    "# Using range() to generate numbers from 0 to 4\n",
    "for i in range(5):\n",
    "    print(i)"
   ]
  },
  {
   "cell_type": "markdown",
   "metadata": {},
   "source": [
    "The `range()` function can take up to three arguments:\n",
    "- `range(stop)`: Generates numbers from 0 to stop-1\n",
    "- `range(start, stop)`: Generates numbers from start to stop-1\n",
    "- `range(start, stop, step)`: Generates numbers from start to stop-1, incrementing by step"
   ]
  },
  {
   "cell_type": "code",
   "execution_count": 25,
   "metadata": {},
   "outputs": [
    {
     "name": "stdout",
     "output_type": "stream",
     "text": [
      "Numbers from 1 to 5:\n",
      "1\n",
      "2\n",
      "3\n",
      "4\n",
      "5\n",
      "\n",
      "Even numbers from 2 to 10:\n",
      "2\n",
      "4\n",
      "6\n",
      "8\n",
      "10\n",
      "\n",
      "Counting down from 5 to 1:\n",
      "5\n",
      "4\n",
      "3\n",
      "2\n",
      "1\n"
     ]
    }
   ],
   "source": [
    "# range(start, stop)\n",
    "print(\"Numbers from 1 to 5:\")\n",
    "for i in range(1, 6):\n",
    "    print(i)\n",
    "\n",
    "# range(start, stop, step)\n",
    "print(\"\\nEven numbers from 2 to 10:\")\n",
    "for i in range(2, 11, 2):\n",
    "    print(i)\n",
    "\n",
    "# Counting backwards\n",
    "print(\"\\nCounting down from 5 to 1:\")\n",
    "for i in range(5, 0, -1):\n",
    "    print(i)"
   ]
  },
  {
   "cell_type": "markdown",
   "metadata": {},
   "source": [
    "### Looping Through Strings\n",
    "\n",
    "You can use a `for` loop to iterate through each character in a string:"
   ]
  },
  {
   "cell_type": "code",
   "execution_count": 26,
   "metadata": {},
   "outputs": [
    {
     "name": "stdout",
     "output_type": "stream",
     "text": [
      "P\n",
      "y\n",
      "t\n",
      "h\n",
      "o\n",
      "n\n"
     ]
    }
   ],
   "source": [
    "word = \"Python\"\n",
    "\n",
    "for letter in word:\n",
    "    print(letter)"
   ]
  },
  {
   "cell_type": "markdown",
   "metadata": {},
   "source": [
    "### Looping Through Lists\n",
    "\n",
    "Looping through lists is one of the most common uses of `for` loops:"
   ]
  },
  {
   "cell_type": "code",
   "execution_count": 27,
   "metadata": {},
   "outputs": [
    {
     "name": "stdout",
     "output_type": "stream",
     "text": [
      "I like apples.\n",
      "I like bananas.\n",
      "I like oranges.\n",
      "I like grapes.\n"
     ]
    }
   ],
   "source": [
    "fruits = [\"apple\", \"banana\", \"orange\", \"grape\"]\n",
    "\n",
    "for fruit in fruits:\n",
    "    print(f\"I like {fruit}s.\")"
   ]
  },
  {
   "cell_type": "markdown",
   "metadata": {},
   "source": [
    "### Getting Both Index and Value with `enumerate()`\n",
    "\n",
    "Sometimes you need both the index (position) and the value of each item in a sequence. The `enumerate()` function is perfect for this:"
   ]
  },
  {
   "cell_type": "code",
   "execution_count": 28,
   "metadata": {},
   "outputs": [
    {
     "name": "stdout",
     "output_type": "stream",
     "text": [
      "Index 0: apple\n",
      "Index 1: banana\n",
      "Index 2: orange\n",
      "Index 3: grape\n"
     ]
    }
   ],
   "source": [
    "fruits = [\"apple\", \"banana\", \"orange\", \"grape\"]\n",
    "\n",
    "for index, fruit in enumerate(fruits):\n",
    "    print(f\"Index {index}: {fruit}\")"
   ]
  },
  {
   "cell_type": "markdown",
   "metadata": {},
   "source": [
    "### Looping Through Dictionaries\n",
    "\n",
    "You can loop through dictionaries in several ways:"
   ]
  },
  {
   "cell_type": "code",
   "execution_count": 29,
   "metadata": {},
   "outputs": [
    {
     "name": "stdout",
     "output_type": "stream",
     "text": [
      "Keys:\n",
      "name\n",
      "age\n",
      "city\n",
      "\n",
      "Values:\n",
      "John\n",
      "30\n",
      "New York\n",
      "\n",
      "Key-value pairs:\n",
      "name: John\n",
      "age: 30\n",
      "city: New York\n"
     ]
    }
   ],
   "source": [
    "person = {\"name\": \"John\", \"age\": 30, \"city\": \"New York\"}\n",
    "\n",
    "# Loop through keys\n",
    "print(\"Keys:\")\n",
    "for key in person:\n",
    "    print(key)\n",
    "\n",
    "# Loop through values\n",
    "print(\"\\nValues:\")\n",
    "for value in person.values():\n",
    "    print(value)\n",
    "\n",
    "# Loop through key-value pairs\n",
    "print(\"\\nKey-value pairs:\")\n",
    "for key, value in person.items():\n",
    "    print(f\"{key}: {value}\")"
   ]
  },
  {
   "cell_type": "markdown",
   "metadata": {},
   "source": [
    "## While Loops\n",
    "\n",
    "A `while` loop executes a block of code as long as a specified condition is true. It's useful when you don't know in advance how many times you need to execute the code."
   ]
  },
  {
   "cell_type": "code",
   "execution_count": 30,
   "metadata": {},
   "outputs": [
    {
     "name": "stdout",
     "output_type": "stream",
     "text": [
      "1\n",
      "2\n",
      "3\n",
      "4\n",
      "5\n"
     ]
    }
   ],
   "source": [
    "# Basic while loop\n",
    "count = 1\n",
    "\n",
    "while count <= 5:\n",
    "    print(count)\n",
    "    count += 1  # This is the same as: count = count + 1"
   ]
  },
  {
   "cell_type": "markdown",
   "metadata": {},
   "source": [
    "In this example:\n",
    "1. We initialize a variable `count` to 1\n",
    "2. The `while` loop checks if `count` is less than or equal to 5\n",
    "3. If the condition is true, it executes the indented code block\n",
    "4. Inside the code block, we print the current value of `count` and then increment it by 1\n",
    "5. The loop continues until `count` becomes 6, at which point the condition becomes false and the loop ends\n",
    "\n",
    "Notice the structure of the `while` loop:\n",
    "- It starts with the keyword `while`\n",
    "- Then comes a condition that evaluates to either `True` or `False`\n",
    "- The line ends with a colon `:`\n",
    "- The code to execute as long as the condition is true is indented (usually by 4 spaces)"
   ]
  },
  {
   "cell_type": "markdown",
   "metadata": {},
   "source": [
    "### Infinite Loops and How to Avoid Them\n",
    "\n",
    "A common mistake with `while` loops is creating an infinite loop, which is a loop that never ends because the condition always remains true. This can happen if you forget to update the variable that's being checked in the condition."
   ]
  },
  {
   "cell_type": "code",
   "execution_count": 31,
   "metadata": {},
   "outputs": [
    {
     "name": "stdout",
     "output_type": "stream",
     "text": [
      "1\n",
      "2\n",
      "3\n",
      "4\n",
      "5\n"
     ]
    }
   ],
   "source": [
    "# This would create an infinite loop if uncommented\n",
    "# count = 1\n",
    "# while count <= 5:\n",
    "#     print(count)\n",
    "#     # We forgot to increment count, so it will always be 1\n",
    "\n",
    "# Correct version\n",
    "count = 1\n",
    "while count <= 5:\n",
    "    print(count)\n",
    "    count += 1  # Don't forget to update the variable!"
   ]
  },
  {
   "cell_type": "markdown",
   "metadata": {},
   "source": [
    "### Using `break` to Exit a Loop\n",
    "\n",
    "The `break` statement allows you to exit a loop prematurely, regardless of whether the loop condition is still true."
   ]
  },
  {
   "cell_type": "code",
   "execution_count": 32,
   "metadata": {},
   "outputs": [
    {
     "name": "stdout",
     "output_type": "stream",
     "text": [
      "Using break in a for loop:\n",
      "1\n",
      "2\n",
      "3\n",
      "4\n",
      "5\n",
      "Reached 6, breaking out of the loop.\n",
      "\n",
      "Using break in a while loop:\n",
      "1\n",
      "2\n",
      "3\n",
      "4\n",
      "5\n",
      "Count exceeded 5, breaking out of the loop.\n"
     ]
    }
   ],
   "source": [
    "# Using break in a for loop\n",
    "print(\"Using break in a for loop:\")\n",
    "for i in range(1, 11):\n",
    "    if i == 6:\n",
    "        print(\"Reached 6, breaking out of the loop.\")\n",
    "        break\n",
    "    print(i)\n",
    "\n",
    "# Using break in a while loop\n",
    "print(\"\\nUsing break in a while loop:\")\n",
    "count = 1\n",
    "while True:  # This would be an infinite loop without the break\n",
    "    if count > 5:\n",
    "        print(\"Count exceeded 5, breaking out of the loop.\")\n",
    "        break\n",
    "    print(count)\n",
    "    count += 1"
   ]
  },
  {
   "cell_type": "markdown",
   "metadata": {},
   "source": [
    "### Using `continue` to Skip an Iteration\n",
    "\n",
    "The `continue` statement allows you to skip the rest of the current iteration and move on to the next iteration of the loop."
   ]
  },
  {
   "cell_type": "code",
   "execution_count": 33,
   "metadata": {},
   "outputs": [
    {
     "name": "stdout",
     "output_type": "stream",
     "text": [
      "1\n",
      "3\n",
      "5\n",
      "7\n",
      "9\n"
     ]
    }
   ],
   "source": [
    "# Using continue to skip even numbers\n",
    "for i in range(1, 11):\n",
    "    if i % 2 == 0:  # If i is even\n",
    "        continue    # Skip the rest of this iteration\n",
    "    print(i)        # This will only print odd numbers"
   ]
  },
  {
   "cell_type": "markdown",
   "metadata": {},
   "source": [
    "## Nested Loops\n",
    "\n",
    "You can place a loop inside another loop. This is called a nested loop. The inner loop will be executed once for each iteration of the outer loop."
   ]
  },
  {
   "cell_type": "code",
   "execution_count": 34,
   "metadata": {},
   "outputs": [
    {
     "name": "stdout",
     "output_type": "stream",
     "text": [
      "1 x 1 = 1\n",
      "1 x 2 = 2\n",
      "1 x 3 = 3\n",
      "\n",
      "2 x 1 = 2\n",
      "2 x 2 = 4\n",
      "2 x 3 = 6\n",
      "\n",
      "3 x 1 = 3\n",
      "3 x 2 = 6\n",
      "3 x 3 = 9\n",
      "\n"
     ]
    }
   ],
   "source": [
    "# Nested loops to create a simple multiplication table\n",
    "for i in range(1, 4):  # Outer loop\n",
    "    for j in range(1, 4):  # Inner loop\n",
    "        print(f\"{i} x {j} = {i * j}\")\n",
    "    print()  # Print a blank line after each group"
   ]
  },
  {
   "cell_type": "markdown",
   "metadata": {},
   "source": [
    "## Real-World Examples\n",
    "\n",
    "Let's look at some real-world examples of how loops are used:"
   ]
  },
  {
   "cell_type": "code",
   "execution_count": 35,
   "metadata": {},
   "outputs": [
    {
     "name": "stdout",
     "output_type": "stream",
     "text": [
      "The sum of [10, 20, 30, 40, 50] is 150\n"
     ]
    }
   ],
   "source": [
    "# Example 1: Calculating the sum of numbers\n",
    "numbers = [10, 20, 30, 40, 50]\n",
    "total = 0\n",
    "\n",
    "for num in numbers:\n",
    "    total += num\n",
    "\n",
    "print(f\"The sum of {numbers} is {total}\")"
   ]
  },
  {
   "cell_type": "code",
   "execution_count": 36,
   "metadata": {},
   "outputs": [
    {
     "name": "stdout",
     "output_type": "stream",
     "text": [
      "The maximum value in [42, 17, 8, 99, 56, 23] is 99\n"
     ]
    }
   ],
   "source": [
    "# Example 2: Finding the maximum value in a list\n",
    "numbers = [42, 17, 8, 99, 56, 23]\n",
    "max_value = numbers[0]  # Start with the first number\n",
    "\n",
    "for num in numbers:\n",
    "    if num > max_value:\n",
    "        max_value = num\n",
    "\n",
    "print(f\"The maximum value in {numbers} is {max_value}\")"
   ]
  },
  {
   "cell_type": "code",
   "execution_count": 37,
   "metadata": {},
   "outputs": [
    {
     "name": "stdout",
     "output_type": "stream",
     "text": [
      "Original list: [1, 2, 3, 4, 5, 6, 7, 8, 9, 10]\n",
      "Even numbers: [2, 4, 6, 8, 10]\n"
     ]
    }
   ],
   "source": [
    "# Example 3: Filtering a list\n",
    "numbers = [1, 2, 3, 4, 5, 6, 7, 8, 9, 10]\n",
    "even_numbers = []\n",
    "\n",
    "for num in numbers:\n",
    "    if num % 2 == 0:  # Check if the number is even\n",
    "        even_numbers.append(num)\n",
    "\n",
    "print(f\"Original list: {numbers}\")\n",
    "print(f\"Even numbers: {even_numbers}\")"
   ]
  },
  {
   "cell_type": "code",
   "execution_count": 38,
   "metadata": {},
   "outputs": [
    {
     "name": "stdout",
     "output_type": "stream",
     "text": [
      "Incorrect password. 2 attempts remaining.\n",
      "Incorrect password. 1 attempts remaining.\n",
      "Account locked. Too many failed attempts.\n"
     ]
    }
   ],
   "source": [
    "# Example 4: Simple password validation\n",
    "correct_password = \"python123\"\n",
    "max_attempts = 3\n",
    "attempts = 0\n",
    "\n",
    "while attempts < max_attempts:\n",
    "    password = input(\"Enter your password: \")\n",
    "    attempts += 1\n",
    "    \n",
    "    if password == correct_password:\n",
    "        print(\"Login successful!\")\n",
    "        break\n",
    "    else:\n",
    "        remaining = max_attempts - attempts\n",
    "        if remaining > 0:\n",
    "            print(f\"Incorrect password. {remaining} attempts remaining.\")\n",
    "        else:\n",
    "            print(\"Account locked. Too many failed attempts.\")"
   ]
  },
  {
   "cell_type": "markdown",
   "metadata": {},
   "source": [
    "## List Comprehensions\n",
    "\n",
    "List comprehensions provide a concise way to create lists based on existing lists. They're a powerful feature in Python that can often replace loops when creating or transforming lists."
   ]
  },
  {
   "cell_type": "code",
   "execution_count": 39,
   "metadata": {},
   "outputs": [
    {
     "name": "stdout",
     "output_type": "stream",
     "text": [
      "Squares using loop: [1, 4, 9, 16, 25, 36, 49, 64, 81, 100]\n",
      "Squares using list comprehension: [1, 4, 9, 16, 25, 36, 49, 64, 81, 100]\n"
     ]
    }
   ],
   "source": [
    "# Creating a list of squares using a for loop\n",
    "squares_loop = []\n",
    "for i in range(1, 11):\n",
    "    squares_loop.append(i ** 2)\n",
    "print(f\"Squares using loop: {squares_loop}\")\n",
    "\n",
    "# Creating the same list using a list comprehension\n",
    "squares_comp = [i ** 2 for i in range(1, 11)]\n",
    "print(f\"Squares using list comprehension: {squares_comp}\")"
   ]
  },
  {
   "cell_type": "markdown",
   "metadata": {},
   "source": [
    "You can also include conditions in list comprehensions:"
   ]
  },
  {
   "cell_type": "code",
   "execution_count": 40,
   "metadata": {},
   "outputs": [
    {
     "name": "stdout",
     "output_type": "stream",
     "text": [
      "Even squares using loop: [4, 16, 36, 64, 100]\n",
      "Even squares using list comprehension: [4, 16, 36, 64, 100]\n"
     ]
    }
   ],
   "source": [
    "# Creating a list of even squares using a for loop\n",
    "even_squares_loop = []\n",
    "for i in range(1, 11):\n",
    "    if i % 2 == 0:  # Only even numbers\n",
    "        even_squares_loop.append(i ** 2)\n",
    "print(f\"Even squares using loop: {even_squares_loop}\")\n",
    "\n",
    "# Creating the same list using a list comprehension\n",
    "even_squares_comp = [i ** 2 for i in range(1, 11) if i % 2 == 0]\n",
    "print(f\"Even squares using list comprehension: {even_squares_comp}\")"
   ]
  },
  {
   "cell_type": "markdown",
   "metadata": {},
   "source": [
    "## Common Pitfalls and Best Practices\n",
    "\n",
    "Here are some common pitfalls to avoid and best practices to follow when using loops:"
   ]
  },
  {
   "cell_type": "markdown",
   "metadata": {},
   "source": [
    "### 1. Modifying a List While Iterating Over It\n",
    "\n",
    "Modifying a list while iterating over it can lead to unexpected results. It's better to create a new list or use a copy of the original list."
   ]
  },
  {
   "cell_type": "code",
   "execution_count": 41,
   "metadata": {},
   "outputs": [
    {
     "name": "stdout",
     "output_type": "stream",
     "text": [
      "[1, 3, 5]\n"
     ]
    }
   ],
   "source": [
    "# Incorrect way - modifying the list while iterating\n",
    "numbers = [1, 2, 3, 4, 5]\n",
    "# for num in numbers:\n",
    "#     if num % 2 == 0:\n",
    "#         numbers.remove(num)  # This can cause items to be skipped\n",
    "# print(numbers)  # This might not remove all even numbers\n",
    "\n",
    "# Correct way - creating a new list\n",
    "numbers = [1, 2, 3, 4, 5]\n",
    "odd_numbers = [num for num in numbers if num % 2 != 0]\n",
    "print(odd_numbers)"
   ]
  },
  {
   "cell_type": "markdown",
   "metadata": {},
   "source": [
    "### 2. Forgetting to Update the Loop Variable in a While Loop\n",
    "\n",
    "As mentioned earlier, forgetting to update the loop variable in a `while` loop can lead to an infinite loop."
   ]
  },
  {
   "cell_type": "code",
   "execution_count": 42,
   "metadata": {},
   "outputs": [
    {
     "name": "stdout",
     "output_type": "stream",
     "text": [
      "1\n",
      "2\n",
      "3\n",
      "4\n",
      "5\n"
     ]
    }
   ],
   "source": [
    "# Incorrect - would create an infinite loop\n",
    "# i = 1\n",
    "# while i <= 5:\n",
    "#     print(i)\n",
    "#     # Forgot to increment i\n",
    "\n",
    "# Correct\n",
    "i = 1\n",
    "while i <= 5:\n",
    "    print(i)\n",
    "    i += 1"
   ]
  },
  {
   "cell_type": "markdown",
   "metadata": {},
   "source": [
    "### 3. Using Loops When There Are More Efficient Alternatives\n",
    "\n",
    "Sometimes there are more efficient alternatives to loops, such as built-in functions or list comprehensions."
   ]
  },
  {
   "cell_type": "code",
   "execution_count": 43,
   "metadata": {},
   "outputs": [
    {
     "name": "stdout",
     "output_type": "stream",
     "text": [
      "Sum using loop: 15\n",
      "Sum using sum() function: 15\n"
     ]
    }
   ],
   "source": [
    "numbers = [1, 2, 3, 4, 5]\n",
    "\n",
    "# Using a loop to calculate the sum\n",
    "total = 0\n",
    "for num in numbers:\n",
    "    total += num\n",
    "print(f\"Sum using loop: {total}\")\n",
    "\n",
    "# Using the built-in sum() function\n",
    "total = sum(numbers)\n",
    "print(f\"Sum using sum() function: {total}\")"
   ]
  },
  {
   "cell_type": "markdown",
   "metadata": {},
   "source": [
    "## Practice Exercise\n",
    "\n",
    "Let's practice what we've learned with an exercise:"
   ]
  },
  {
   "cell_type": "markdown",
   "metadata": {},
   "source": [
    "### Exercise: Shopping List Calculator\n",
    "\n",
    "Create a program that calculates the total cost of items in a shopping list. Each item has a name and a price. The program should:\n",
    "1. Print each item and its price\n",
    "2. Calculate and print the total cost\n",
    "3. Find and print the most expensive item"
   ]
  },
  {
   "cell_type": "code",
   "execution_count": 44,
   "metadata": {},
   "outputs": [],
   "source": [
    "# Your code here\n",
    "# Example shopping list:\n",
    "shopping_list = [\n",
    "    {\"name\": \"Apples\", \"price\": 3.99},\n",
    "    {\"name\": \"Bread\", \"price\": 2.49},\n",
    "    {\"name\": \"Milk\", \"price\": 1.99},\n",
    "    {\"name\": \"Eggs\", \"price\": 2.99},\n",
    "    {\"name\": \"Cheese\", \"price\": 5.49}\n",
    "]\n"
   ]
  }
 ],
 "metadata": {
  "kernelspec": {
   "display_name": "AktThemen",
   "language": "python",
   "name": "python3"
  },
  "language_info": {
   "codemirror_mode": {
    "name": "ipython",
    "version": 3
   },
   "file_extension": ".py",
   "mimetype": "text/x-python",
   "name": "python",
   "nbconvert_exporter": "python",
   "pygments_lexer": "ipython3",
   "version": "3.12.7"
  }
 },
 "nbformat": 4,
 "nbformat_minor": 4
}
