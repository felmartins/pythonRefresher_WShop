{
 "cells": [
  {
   "cell_type": "markdown",
   "metadata": {},
   "source": [
    "# Functions\n",
    "\n",
    "In this section, we'll learn about functions in Python. Functions are reusable blocks of code that perform specific tasks, making your code more organized and easier to maintain."
   ]
  },
  {
   "cell_type": "markdown",
   "metadata": {},
   "source": [
    "## What are Functions and Why Do We Need Them?\n",
    "\n",
    "A function is a block of organized, reusable code that performs a specific task. Functions provide better modularity for your application and a high degree of code reuse.\n",
    "\n",
    "Think of functions like recipes. A recipe is a set of instructions that produces a specific dish. Similarly, a function is a set of instructions that performs a specific task.\n",
    "\n",
    "Why do we need functions?\n",
    "- **Code Reusability**: Write once, use many times\n",
    "- **Modularity**: Break down complex problems into smaller, manageable parts\n",
    "- **Readability**: Make your code easier to understand\n",
    "- **Maintainability**: Easier to fix bugs and add features"
   ]
  },
  {
   "cell_type": "markdown",
   "metadata": {},
   "source": [
    "## Defining and Calling Functions\n",
    "\n",
    "In Python, you define a function using the `def` keyword, followed by the function name and parentheses `()`."
   ]
  },
  {
   "cell_type": "code",
   "execution_count": null,
   "metadata": {},
   "outputs": [],
   "source": [
    "# Defining a simple function\n",
    "def greet():\n",
    "    print(\"Hello, World!\")\n",
    "\n",
    "# Calling the function\n",
    "greet()"
   ]
  },
  {
   "cell_type": "markdown",
   "metadata": {},
   "source": [
    "In this example:\n",
    "1. We define a function called `greet` using the `def` keyword\n",
    "2. The function body is indented (usually by 4 spaces)\n",
    "3. The function body contains the code that will be executed when the function is called\n",
    "4. We call the function by writing its name followed by parentheses\n",
    "\n",
    "Notice the structure of the function definition:\n",
    "- It starts with the keyword `def`\n",
    "- Then comes the function name (should be descriptive of what the function does)\n",
    "- Then comes a pair of parentheses `()`\n",
    "- The line ends with a colon `:`\n",
    "- The function body is indented"
   ]
  },
  {
   "cell_type": "markdown",
   "metadata": {},
   "source": [
    "## Function Parameters and Arguments\n",
    "\n",
    "Functions can take inputs, called parameters. When you call a function and provide values for these parameters, they are called arguments."
   ]
  },
  {
   "cell_type": "code",
   "execution_count": null,
   "metadata": {},
   "outputs": [],
   "source": [
    "# Function with parameters\n",
    "def greet_person(name):\n",
    "    print(f\"Hello, {name}!\")\n",
    "\n",
    "# Calling the function with an argument\n",
    "greet_person(\"Alice\")\n",
    "greet_person(\"Bob\")"
   ]
  },
  {
   "cell_type": "markdown",
   "metadata": {},
   "source": [
    "In this example:\n",
    "1. We define a function called `greet_person` that takes one parameter: `name`\n",
    "2. Inside the function, we use the parameter to personalize the greeting\n",
    "3. We call the function twice, each time with a different argument\n",
    "\n",
    "You can define functions with multiple parameters:"
   ]
  },
  {
   "cell_type": "code",
   "execution_count": null,
   "metadata": {},
   "outputs": [],
   "source": [
    "# Function with multiple parameters\n",
    "def describe_person(name, age, city):\n",
    "    print(f\"{name} is {age} years old and lives in {city}.\")\n",
    "\n",
    "# Calling the function with multiple arguments\n",
    "describe_person(\"Alice\", 30, \"New York\")\n",
    "describe_person(\"Bob\", 25, \"San Francisco\")"
   ]
  },
  {
   "cell_type": "markdown",
   "metadata": {},
   "source": [
    "### Default Parameter Values\n",
    "\n",
    "You can assign default values to parameters, which will be used if no argument is provided for that parameter."
   ]
  },
  {
   "cell_type": "code",
   "execution_count": null,
   "metadata": {},
   "outputs": [],
   "source": [
    "# Function with default parameter values\n",
    "def greet_with_message(name, message=\"Hello\"):\n",
    "    print(f\"{message}, {name}!\")\n",
    "\n",
    "# Calling the function without providing the 'message' argument\n",
    "greet_with_message(\"Alice\")  # Uses the default message\n",
    "\n",
    "# Calling the function with a custom message\n",
    "greet_with_message(\"Bob\", \"Good morning\")"
   ]
  },
  {
   "cell_type": "markdown",
   "metadata": {},
   "source": [
    "### Keyword Arguments\n",
    "\n",
    "You can specify arguments by parameter name, which allows you to provide them in any order."
   ]
  },
  {
   "cell_type": "code",
   "execution_count": null,
   "metadata": {},
   "outputs": [],
   "source": [
    "# Using keyword arguments\n",
    "describe_person(city=\"Chicago\", age=35, name=\"Charlie\")"
   ]
  },
  {
   "cell_type": "markdown",
   "metadata": {},
   "source": [
    "## Return Values\n",
    "\n",
    "Functions can return values using the `return` statement. This allows you to get output from a function and use it in your code."
   ]
  },
  {
   "cell_type": "code",
   "execution_count": null,
   "metadata": {},
   "outputs": [],
   "source": [
    "# Function that returns a value\n",
    "def add_numbers(a, b):\n",
    "    return a + b\n",
    "\n",
    "# Calling the function and storing the result\n",
    "result = add_numbers(5, 3)\n",
    "print(f\"The sum is: {result}\")\n",
    "\n",
    "# Using the return value directly in an expression\n",
    "print(f\"Twice the sum is: {add_numbers(5, 3) * 2}\")"
   ]
  },
  {
   "cell_type": "markdown",
   "metadata": {},
   "source": [
    "In this example:\n",
    "1. We define a function called `add_numbers` that takes two parameters: `a` and `b`\n",
    "2. The function returns the sum of `a` and `b` using the `return` statement\n",
    "3. We call the function and store the return value in a variable called `result`\n",
    "4. We also use the function's return value directly in an expression\n",
    "\n",
    "A function can return multiple values as a tuple:"
   ]
  },
  {
   "cell_type": "code",
   "execution_count": null,
   "metadata": {},
   "outputs": [],
   "source": [
    "# Function that returns multiple values\n",
    "def calculate_statistics(numbers):\n",
    "    total = sum(numbers)\n",
    "    average = total / len(numbers)\n",
    "    minimum = min(numbers)\n",
    "    maximum = max(numbers)\n",
    "    return total, average, minimum, maximum\n",
    "\n",
    "# Calling the function and unpacking the return values\n",
    "numbers = [10, 20, 30, 40, 50]\n",
    "sum_result, avg, min_val, max_val = calculate_statistics(numbers)\n",
    "\n",
    "print(f\"Sum: {sum_result}\")\n",
    "print(f\"Average: {avg}\")\n",
    "print(f\"Minimum: {min_val}\")\n",
    "print(f\"Maximum: {max_val}\")"
   ]
  },
  {
   "cell_type": "markdown",
   "metadata": {},
   "source": [
    "## Variable Scope\n",
    "\n",
    "The scope of a variable determines where in your code the variable can be accessed. There are two main types of scope in Python:\n",
    "\n",
    "1. **Local scope**: Variables defined inside a function\n",
    "2. **Global scope**: Variables defined outside all functions"
   ]
  },
  {
   "cell_type": "code",
   "execution_count": null,
   "metadata": {},
   "outputs": [],
   "source": [
    "# Global variable\n",
    "message = \"Hello, Global!\"\n",
    "\n",
    "def show_message():\n",
    "    # Local variable\n",
    "    local_message = \"Hello, Local!\"\n",
    "    print(message)  # Can access the global variable\n",
    "    print(local_message)  # Can access the local variable\n",
    "\n",
    "show_message()\n",
    "print(message)  # Can access the global variable\n",
    "# print(local_message)  # This would cause an error because local_message is not accessible outside the function"
   ]
  },
  {
   "cell_type": "markdown",
   "metadata": {},
   "source": [
    "If you want to modify a global variable inside a function, you need to use the `global` keyword:"
   ]
  },
  {
   "cell_type": "code",
   "execution_count": null,
   "metadata": {},
   "outputs": [],
   "source": [
    "counter = 0\n",
    "\n",
    "def increment_counter():\n",
    "    global counter  # Declare that we want to use the global variable\n",
    "    counter += 1\n",
    "    print(f\"Counter is now: {counter}\")\n",
    "\n",
    "print(f\"Initial counter: {counter}\")\n",
    "increment_counter()\n",
    "increment_counter()\n",
    "print(f\"Final counter: {counter}\")"
   ]
  },
  {
   "cell_type": "markdown",
   "metadata": {},
   "source": [
    "## Docstrings\n",
    "\n",
    "Docstrings are string literals that appear right after the definition of a function, class, or module. They are used to document what the function does, what parameters it takes, and what it returns."
   ]
  },
  {
   "cell_type": "code",
   "execution_count": null,
   "metadata": {},
   "outputs": [],
   "source": [
    "def calculate_area(length, width):\n",
    "    \"\"\"\n",
    "    Calculate the area of a rectangle.\n",
    "    \n",
    "    Parameters:\n",
    "    length (float): The length of the rectangle\n",
    "    width (float): The width of the rectangle\n",
    "    \n",
    "    Returns:\n",
    "    float: The area of the rectangle\n",
    "    \"\"\"\n",
    "    return length * width\n",
    "\n",
    "# You can access the docstring using the __doc__ attribute\n",
    "print(calculate_area.__doc__)"
   ]
  },
  {
   "cell_type": "markdown",
   "metadata": {},
   "source": [
    "## Lambda Functions\n",
    "\n",
    "Lambda functions are small, anonymous functions defined using the `lambda` keyword. They can have any number of parameters but can only have one expression."
   ]
  },
  {
   "cell_type": "code",
   "execution_count": null,
   "metadata": {},
   "outputs": [],
   "source": [
    "# Regular function\n",
    "def square(x):\n",
    "    return x ** 2\n",
    "\n",
    "# Equivalent lambda function\n",
    "square_lambda = lambda x: x ** 2\n",
    "\n",
    "print(f\"Using regular function: {square(5)}\")\n",
    "print(f\"Using lambda function: {square_lambda(5)}\")\n",
    "\n",
    "# Lambda function with multiple parameters\n",
    "sum_lambda = lambda x, y: x + y\n",
    "print(f\"Sum using lambda: {sum_lambda(3, 4)}\")"
   ]
  },
  {
   "cell_type": "markdown",
   "metadata": {},
   "source": [
    "Lambda functions are often used with functions like `map()`, `filter()`, and `sorted()`:"
   ]
  },
  {
   "cell_type": "code",
   "execution_count": null,
   "metadata": {},
   "outputs": [],
   "source": [
    "# Using lambda with map() to apply a function to each item in a list\n",
    "numbers = [1, 2, 3, 4, 5]\n",
    "squared = list(map(lambda x: x ** 2, numbers))\n",
    "print(f\"Original numbers: {numbers}\")\n",
    "print(f\"Squared numbers: {squared}\")\n",
    "\n",
    "# Using lambda with filter() to filter items based on a condition\n",
    "even_numbers = list(filter(lambda x: x % 2 == 0, numbers))\n",
    "print(f\"Even numbers: {even_numbers}\")\n",
    "\n",
    "# Using lambda with sorted() to customize sorting\n",
    "people = [(\"Alice\", 30), (\"Bob\", 25), (\"Charlie\", 35)]\n",
    "sorted_by_age = sorted(people, key=lambda person: person[1])\n",
    "print(f\"Sorted by age: {sorted_by_age}\")"
   ]
  },
  {
   "cell_type": "markdown",
   "metadata": {},
   "source": [
    "## Real-World Examples\n",
    "\n",
    "Let's look at some real-world examples of how functions are used:"
   ]
  },
  {
   "cell_type": "code",
   "execution_count": null,
   "metadata": {},
   "outputs": [],
   "source": [
    "# Example 1: Temperature conversion\n",
    "def celsius_to_fahrenheit(celsius):\n",
    "    \"\"\"\n",
    "    Convert temperature from Celsius to Fahrenheit.\n",
    "    \n",
    "    Parameters:\n",
    "    celsius (float): Temperature in Celsius\n",
    "    \n",
    "    Returns:\n",
    "    float: Temperature in Fahrenheit\n",
    "    \"\"\"\n",
    "    return (celsius * 9/5) + 32\n",
    "\n",
    "def fahrenheit_to_celsius(fahrenheit):\n",
    "    \"\"\"\n",
    "    Convert temperature from Fahrenheit to Celsius.\n",
    "    \n",
    "    Parameters:\n",
    "    fahrenheit (float): Temperature in Fahrenheit\n",
    "    \n",
    "    Returns:\n",
    "    float: Temperature in Celsius\n",
    "    \"\"\"\n",
    "    return (fahrenheit - 32) * 5/9\n",
    "\n",
    "# Test the functions\n",
    "celsius_temp = 25\n",
    "fahrenheit_temp = celsius_to_fahrenheit(celsius_temp)\n",
    "print(f\"{celsius_temp}°C is equal to {fahrenheit_temp:.1f}°F\")\n",
    "\n",
    "fahrenheit_temp = 98.6\n",
    "celsius_temp = fahrenheit_to_celsius(fahrenheit_temp)\n",
    "print(f\"{fahrenheit_temp}°F is equal to {celsius_temp:.1f}°C\")"
   ]
  },
  {
   "cell_type": "code",
   "execution_count": null,
   "metadata": {},
   "outputs": [],
   "source": [
    "# Example 2: Password validation\n",
    "def is_valid_password(password):\n",
    "    \"\"\"\n",
    "    Check if a password meets the following criteria:\n",
    "    - At least 8 characters long\n",
    "    - Contains at least one uppercase letter\n",
    "    - Contains at least one lowercase letter\n",
    "    - Contains at least one digit\n",
    "    \n",
    "    Parameters:\n",
    "    password (str): The password to validate\n",
    "    \n",
    "    Returns:\n",
    "    bool: True if the password is valid, False otherwise\n",
    "    \"\"\"\n",
    "    if len(password) < 8:\n",
    "        return False\n",
    "    \n",
    "    has_uppercase = False\n",
    "    has_lowercase = False\n",
    "    has_digit = False\n",
    "    \n",
    "    for char in password:\n",
    "        if char.isupper():\n",
    "            has_uppercase = True\n",
    "        elif char.islower():\n",
    "            has_lowercase = True\n",
    "        elif char.isdigit():\n",
    "            has_digit = True\n",
    "    \n",
    "    return has_uppercase and has_lowercase and has_digit\n",
    "\n",
    "# Test the function\n",
    "passwords = [\"password\", \"Password\", \"Password1\", \"pass\"]\n",
    "\n",
    "for pwd in passwords:\n",
    "    if is_valid_password(pwd):\n",
    "        print(f\"'{pwd}' is a valid password.\")\n",
    "    else:\n",
    "        print(f\"'{pwd}' is not a valid password.\")"
   ]
  },
  {
   "cell_type": "code",
   "execution_count": null,
   "metadata": {},
   "outputs": [],
   "source": [
    "# Example 3: Data processing\n",
    "def calculate_discount(price, discount_percentage):\n",
    "    \"\"\"\n",
    "    Calculate the final price after applying a discount.\n",
    "    \n",
    "    Parameters:\n",
    "    price (float): The original price\n",
    "    discount_percentage (float): The discount percentage (0-100)\n",
    "    \n",
    "    Returns:\n",
    "    float: The final price after discount\n",
    "    \"\"\"\n",
    "    discount_amount = price * (discount_percentage / 100)\n",
    "    final_price = price - discount_amount\n",
    "    return final_price\n",
    "\n",
    "def apply_tax(price, tax_rate):\n",
    "    \"\"\"\n",
    "    Calculate the final price after applying tax.\n",
    "    \n",
    "    Parameters:\n",
    "    price (float): The original price\n",
    "    tax_rate (float): The tax rate percentage (0-100)\n",
    "    \n",
    "    Returns:\n",
    "    float: The final price after tax\n",
    "    \"\"\"\n",
    "    tax_amount = price * (tax_rate / 100)\n",
    "    final_price = price + tax_amount\n",
    "    return final_price\n",
    "\n",
    "def process_order(items, discount_percentage, tax_rate):\n",
    "    \"\"\"\n",
    "    Process an order by calculating the total price after discount and tax.\n",
    "    \n",
    "    Parameters:\n",
    "    items (list): List of (item_name, price) tuples\n",
    "    discount_percentage (float): The discount percentage (0-100)\n",
    "    tax_rate (float): The tax rate percentage (0-100)\n",
    "    \n",
    "    Returns:\n",
    "    tuple: (subtotal, discount_amount, tax_amount, total)\n",
    "    \"\"\"\n",
    "    subtotal = sum(price for _, price in items)\n",
    "    discounted_price = calculate_discount(subtotal, discount_percentage)\n",
    "    discount_amount = subtotal - discounted_price\n",
    "    final_price = apply_tax(discounted_price, tax_rate)\n",
    "    tax_amount = final_price - discounted_price\n",
    "    \n",
    "    return subtotal, discount_amount, tax_amount, final_price\n",
    "\n",
    "# Test the functions\n",
    "order = [(\"Laptop\", 1200), (\"Mouse\", 25), (\"Keyboard\", 45)]\n",
    "discount = 10  # 10% discount\n",
    "tax = 8  # 8% tax\n",
    "\n",
    "subtotal, discount_amount, tax_amount, total = process_order(order, discount, tax)\n",
    "\n",
    "print(\"Order Summary:\")\n",
    "for item, price in order:\n",
    "    print(f\"{item}: ${price:.2f}\")\n",
    "print(f\"Subtotal: ${subtotal:.2f}\")\n",
    "print(f\"Discount ({discount}%): -${discount_amount:.2f}\")\n",
    "print(f\"Tax ({tax}%): ${tax_amount:.2f}\")\n",
    "print(f\"Total: ${total:.2f}\")"
   ]
  },
  {
   "cell_type": "markdown",
   "metadata": {},
   "source": [
    "## Practice Exercise\n",
    "\n",
    "Let's practice what we've learned with an exercise:"
   ]
  },
  {
   "cell_type": "markdown",
   "metadata": {},
   "source": [
    "### Exercise: Create a Simple Calculator\n",
    "\n",
    "Create a set of functions to perform basic arithmetic operations (addition, subtraction, multiplication, division). Then create a main function that asks the user for two numbers and an operation, and returns the result."
   ]
  },
  {
   "cell_type": "code",
   "execution_count": null,
   "metadata": {},
   "outputs": [],
   "source": [
    "# Your code here\n"
   ]
  }
 ],
 "metadata": {
  "kernelspec": {
   "display_name": "Python 3",
   "language": "python",
   "name": "python3"
  },
  "language_info": {
   "codemirror_mode": {
    "name": "ipython",
    "version": 3
   },
   "file_extension": ".py",
   "mimetype": "text/x-python",
   "name": "python",
   "nbconvert_exporter": "python",
   "pygments_lexer": "ipython3",
   "version": "3.8.8"
  }
 },
 "nbformat": 4,
 "nbformat_minor": 4
}
