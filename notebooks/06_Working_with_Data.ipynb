{
 "cells": [
  {
   "cell_type": "markdown",
   "metadata": {},
   "source": [
    "# Working with Data\n",
    "\n",
    "In this section, we'll learn how to work with data in Python, including reading and writing files, and handling different data formats."
   ]
  },
  {
   "cell_type": "markdown",
   "metadata": {},
   "source": [
    "## Reading and Writing Text Files\n",
    "\n",
    "Python makes it easy to read from and write to files. The basic steps are:\n",
    "1. Open the file using the `open()` function\n",
    "2. Read from or write to the file\n",
    "3. Close the file when you're done"
   ]
  },
  {
   "cell_type": "markdown",
   "metadata": {},
   "source": [
    "### Writing to a Text File"
   ]
  },
  {
   "cell_type": "code",
   "execution_count": null,
   "metadata": {},
   "outputs": [],
   "source": [
    "# Writing to a file\n",
    "file = open(\"sample.txt\", \"w\")  # Open in write mode ('w')\n",
    "file.write(\"Hello, World!\\n\")    # Write a line of text\n",
    "file.write(\"This is a sample file.\\n\")  # Write another line\n",
    "file.close()  # Close the file\n",
    "\n",
    "print(\"File has been written.\")"
   ]
  },
  {
   "cell_type": "markdown",
   "metadata": {},
   "source": [
    "### Reading from a Text File"
   ]
  },
  {
   "cell_type": "code",
   "execution_count": null,
   "metadata": {},
   "outputs": [],
   "source": [
    "# Reading from a file\n",
    "file = open(\"sample.txt\", \"r\")  # Open in read mode ('r')\n",
    "content = file.read()  # Read the entire file\n",
    "file.close()  # Close the file\n",
    "\n",
    "print(\"File content:\")\n",
    "print(content)"
   ]
  },
  {
   "cell_type": "markdown",
   "metadata": {},
   "source": [
    "### Reading a File Line by Line"
   ]
  },
  {
   "cell_type": "code",
   "execution_count": null,
   "metadata": {},
   "outputs": [],
   "source": [
    "# Reading a file line by line\n",
    "file = open(\"sample.txt\", \"r\")\n",
    "print(\"Reading line by line:\")\n",
    "for line in file:\n",
    "    print(f\"Line: {line.strip()}\")  # strip() removes the newline character\n",
    "file.close()"
   ]
  },
  {
   "cell_type": "markdown",
   "metadata": {},
   "source": [
    "### Using `with` Statement (Context Manager)\n",
    "\n",
    "A better way to work with files is to use the `with` statement, which automatically closes the file when you're done with it, even if an error occurs."
   ]
  },
  {
   "cell_type": "code",
   "execution_count": null,
   "metadata": {},
   "outputs": [],
   "source": [
    "# Using the 'with' statement\n",
    "with open(\"sample.txt\", \"r\") as file:\n",
    "    content = file.read()\n",
    "    print(\"Content read using 'with' statement:\")\n",
    "    print(content)\n",
    "# File is automatically closed when the 'with' block ends"
   ]
  },
  {
   "cell_type": "markdown",
   "metadata": {},
   "source": [
    "### Appending to a File\n",
    "\n",
    "If you want to add content to an existing file without overwriting it, you can open the file in append mode ('a')."
   ]
  },
  {
   "cell_type": "code",
   "execution_count": null,
   "metadata": {},
   "outputs": [],
   "source": [
    "# Appending to a file\n",
    "with open(\"sample.txt\", \"a\") as file:  # Open in append mode ('a')\n",
    "    file.write(\"This line is appended.\\n\")\n",
    "    file.write(\"Another appended line.\\n\")\n",
    "\n",
    "# Read the updated file\n",
    "with open(\"sample.txt\", \"r\") as file:\n",
    "    content = file.read()\n",
    "    print(\"Updated file content:\")\n",
    "    print(content)"
   ]
  },
  {
   "cell_type": "markdown",
   "metadata": {},
   "source": [
    "## Working with CSV Files\n",
    "\n",
    "CSV (Comma-Separated Values) is a common format for storing tabular data. Python's `csv` module makes it easy to read and write CSV files."
   ]
  },
  {
   "cell_type": "code",
   "execution_count": null,
   "metadata": {},
   "outputs": [],
   "source": [
    "import csv\n",
    "\n",
    "# Writing to a CSV file\n",
    "data = [\n",
    "    [\"Name\", \"Age\", \"City\"],  # Header row\n",
    "    [\"Alice\", 30, \"New York\"],\n",
    "    [\"Bob\", 25, \"Los Angeles\"],\n",
    "    [\"Charlie\", 35, \"Chicago\"]\n",
    "]\n",
    "\n",
    "with open(\"people.csv\", \"w\", newline=\"\") as file:\n",
    "    writer = csv.writer(file)\n",
    "    writer.writerows(data)  # Write all rows at once\n",
    "\n",
    "print(\"CSV file has been written.\")"
   ]
  },
  {
   "cell_type": "code",
   "execution_count": null,
   "metadata": {},
   "outputs": [],
   "source": [
    "# Reading from a CSV file\n",
    "with open(\"people.csv\", \"r\") as file:\n",
    "    reader = csv.reader(file)\n",
    "    print(\"CSV file content:\")\n",
    "    for row in reader:\n",
    "        print(row)"
   ]
  },
  {
   "cell_type": "markdown",
   "metadata": {},
   "source": [
    "### Using CSV with Dictionaries\n",
    "\n",
    "The `csv` module also provides a `DictReader` and `DictWriter` for working with CSV files using dictionaries, which can be more convenient."
   ]
  },
  {
   "cell_type": "code",
   "execution_count": null,
   "metadata": {},
   "outputs": [],
   "source": [
    "# Writing to a CSV file using dictionaries\n",
    "data = [\n",
    "    {\"Name\": \"Alice\", \"Age\": 30, \"City\": \"New York\"},\n",
    "    {\"Name\": \"Bob\", \"Age\": 25, \"City\": \"Los Angeles\"},\n",
    "    {\"Name\": \"Charlie\", \"Age\": 35, \"City\": \"Chicago\"}\n",
    "]\n",
    "\n",
    "with open(\"people_dict.csv\", \"w\", newline=\"\") as file:\n",
    "    fieldnames = [\"Name\", \"Age\", \"City\"]\n",
    "    writer = csv.DictWriter(file, fieldnames=fieldnames)\n",
    "    \n",
    "    writer.writeheader()  # Write the header row\n",
    "    writer.writerows(data)  # Write all rows at once\n",
    "\n",
    "print(\"CSV file has been written using DictWriter.\")"
   ]
  },
  {
   "cell_type": "code",
   "execution_count": null,
   "metadata": {},
   "outputs": [],
   "source": [
    "# Reading from a CSV file using dictionaries\n",
    "with open(\"people_dict.csv\", \"r\") as file:\n",
    "    reader = csv.DictReader(file)\n",
    "    print(\"CSV file content using DictReader:\")\n",
    "    for row in reader:\n",
    "        print(row)"
   ]
  },
  {
   "cell_type": "markdown",
   "metadata": {},
   "source": [
    "## Working with JSON\n",
    "\n",
    "JSON (JavaScript Object Notation) is a popular data format used for data exchange. Python's `json` module makes it easy to work with JSON data."
   ]
  },
  {
   "cell_type": "code",
   "execution_count": 1,
   "metadata": {},
   "outputs": [
    {
     "name": "stdout",
     "output_type": "stream",
     "text": [
      "JSON string:\n",
      "{\n",
      "    \"name\": \"Alice\",\n",
      "    \"age\": 30,\n",
      "    \"city\": \"New York\",\n",
      "    \"is_student\": false,\n",
      "    \"courses\": [\n",
      "        \"Python\",\n",
      "        \"Data Science\",\n",
      "        \"Machine Learning\"\n",
      "    ],\n",
      "    \"address\": {\n",
      "        \"street\": \"123 Main St\",\n",
      "        \"zip\": \"10001\"\n",
      "    }\n",
      "}\n"
     ]
    }
   ],
   "source": [
    "import json\n",
    "\n",
    "# Creating a Python dictionary\n",
    "person = {\n",
    "    \"name\": \"Alice\",\n",
    "    \"age\": 30,\n",
    "    \"city\": \"New York\",\n",
    "    \"is_student\": False,\n",
    "    \"courses\": [\"Python\", \"Data Science\", \"Machine Learning\"],\n",
    "    \"address\": {\n",
    "        \"street\": \"123 Main St\",\n",
    "        \"zip\": \"10001\"\n",
    "    }\n",
    "}\n",
    "\n",
    "# Converting Python dictionary to JSON string\n",
    "json_string = json.dumps(person, indent=4)  # indent for pretty printing\n",
    "print(\"JSON string:\")\n",
    "print(json_string)"
   ]
  },
  {
   "cell_type": "code",
   "execution_count": null,
   "metadata": {},
   "outputs": [],
   "source": [
    "# Writing JSON to a file\n",
    "with open(\"person.json\", \"w\") as file:\n",
    "    json.dump(person, file, indent=4)\n",
    "\n",
    "print(\"JSON file has been written.\")"
   ]
  },
  {
   "cell_type": "code",
   "execution_count": null,
   "metadata": {},
   "outputs": [],
   "source": [
    "# Reading JSON from a file\n",
    "with open(\"person.json\", \"r\") as file:\n",
    "    loaded_person = json.load(file)\n",
    "\n",
    "print(\"Loaded from JSON file:\")\n",
    "print(loaded_person)\n",
    "\n",
    "# Accessing values in the loaded dictionary\n",
    "print(f\"Name: {loaded_person['name']}\")\n",
    "print(f\"Age: {loaded_person['age']}\")\n",
    "print(f\"Courses: {', '.join(loaded_person['courses'])}\")\n",
    "print(f\"Street: {loaded_person['address']['street']}\")"
   ]
  },
  {
   "cell_type": "markdown",
   "metadata": {},
   "source": [
    "## Error Handling\n",
    "\n",
    "When working with files and data, it's important to handle potential errors, such as file not found or invalid data format."
   ]
  },
  {
   "cell_type": "code",
   "execution_count": null,
   "metadata": {},
   "outputs": [],
   "source": [
    "# Error handling when opening a file\n",
    "try:\n",
    "    with open(\"nonexistent_file.txt\", \"r\") as file:\n",
    "        content = file.read()\n",
    "except FileNotFoundError:\n",
    "    print(\"Error: The file does not exist.\")\n",
    "except PermissionError:\n",
    "    print(\"Error: You don't have permission to access this file.\")\n",
    "except Exception as e:\n",
    "    print(f\"An unexpected error occurred: {e}\")"
   ]
  },
  {
   "cell_type": "code",
   "execution_count": null,
   "metadata": {},
   "outputs": [],
   "source": [
    "# Error handling when parsing JSON\n",
    "invalid_json = \"{'name': 'Alice', 'age': 30}\"  # Invalid JSON (single quotes instead of double quotes)\n",
    "\n",
    "try:\n",
    "    parsed_data = json.loads(invalid_json)\n",
    "    print(parsed_data)\n",
    "except json.JSONDecodeError as e:\n",
    "    print(f\"Error parsing JSON: {e}\")"
   ]
  },
  {
   "cell_type": "markdown",
   "metadata": {},
   "source": [
    "## Real-World Example: Data Analysis\n",
    "\n",
    "Let's put everything together in a real-world example where we read data from a CSV file, process it, and save the results."
   ]
  },
  {
   "cell_type": "code",
   "execution_count": null,
   "metadata": {},
   "outputs": [],
   "source": [
    "# First, let's create a sample sales data CSV file\n",
    "sales_data = [\n",
    "    [\"Date\", \"Product\", \"Price\", \"Quantity\"],\n",
    "    [\"2023-01-15\", \"Laptop\", 1200, 5],\n",
    "    [\"2023-01-15\", \"Mouse\", 25, 10],\n",
    "    [\"2023-01-16\", \"Keyboard\", 45, 8],\n",
    "    [\"2023-01-16\", \"Monitor\", 150, 3],\n",
    "    [\"2023-01-17\", \"Laptop\", 1200, 2],\n",
    "    [\"2023-01-17\", \"Headphones\", 80, 7],\n",
    "    [\"2023-01-18\", \"Mouse\", 25, 15],\n",
    "    [\"2023-01-18\", \"Keyboard\", 45, 5]\n",
    "]\n",
    "\n",
    "with open(\"sales.csv\", \"w\", newline=\"\") as file:\n",
    "    writer = csv.writer(file)\n",
    "    writer.writerows(sales_data)\n",
    "\n",
    "print(\"Sales data CSV file has been created.\")"
   ]
  },
  {
   "cell_type": "code",
   "execution_count": null,
   "metadata": {},
   "outputs": [],
   "source": [
    "# Now, let's analyze the sales data\n",
    "def analyze_sales_data(filename):\n",
    "    \"\"\"\n",
    "    Analyze sales data from a CSV file.\n",
    "    \n",
    "    Parameters:\n",
    "    filename (str): The name of the CSV file\n",
    "    \n",
    "    Returns:\n",
    "    dict: A dictionary containing the analysis results\n",
    "    \"\"\"\n",
    "    try:\n",
    "        # Read the sales data\n",
    "        sales = []\n",
    "        with open(filename, \"r\") as file:\n",
    "            reader = csv.reader(file)\n",
    "            header = next(reader)  # Skip the header row\n",
    "            for row in reader:\n",
    "                date, product, price, quantity = row\n",
    "                sales.append({\n",
    "                    \"date\": date,\n",
    "                    \"product\": product,\n",
    "                    \"price\": float(price),\n",
    "                    \"quantity\": int(quantity),\n",
    "                    \"total\": float(price) * int(quantity)\n",
    "                })\n",
    "        \n",
    "        # Calculate total sales\n",
    "        total_sales = sum(item[\"total\"] for item in sales)\n",
    "        \n",
    "        # Calculate sales by product\n",
    "        sales_by_product = {}\n",
    "        for item in sales:\n",
    "            product = item[\"product\"]\n",
    "            if product not in sales_by_product:\n",
    "                sales_by_product[product] = 0\n",
    "            sales_by_product[product] += item[\"total\"]\n",
    "        \n",
    "        # Calculate sales by date\n",
    "        sales_by_date = {}\n",
    "        for item in sales:\n",
    "            date = item[\"date\"]\n",
    "            if date not in sales_by_date:\n",
    "                sales_by_date[date] = 0\n",
    "            sales_by_date[date] += item[\"total\"]\n",
    "        \n",
    "        # Find the best-selling product\n",
    "        best_selling_product = max(sales_by_product.items(), key=lambda x: x[1])\n",
    "        \n",
    "        # Find the day with the highest sales\n",
    "        best_sales_day = max(sales_by_date.items(), key=lambda x: x[1])\n",
    "        \n",
    "        # Return the analysis results\n",
    "        return {\n",
    "            \"total_sales\": total_sales,\n",
    "            \"sales_by_product\": sales_by_product,\n",
    "            \"sales_by_date\": sales_by_date,\n",
    "            \"best_selling_product\": best_selling_product,\n",
    "            \"best_sales_day\": best_sales_day\n",
    "        }\n",
    "    \n",
    "    except FileNotFoundError:\n",
    "        print(f\"Error: The file '{filename}' does not exist.\")\n",
    "        return None\n",
    "    except Exception as e:\n",
    "        print(f\"An error occurred: {e}\")\n",
    "        return None\n",
    "\n",
    "# Analyze the sales data\n",
    "results = analyze_sales_data(\"sales.csv\")\n",
    "\n",
    "if results:\n",
    "    print(f\"Total Sales: ${results['total_sales']:.2f}\")\n",
    "    \n",
    "    print(\"\\nSales by Product:\")\n",
    "    for product, amount in results['sales_by_product'].items():\n",
    "        print(f\"{product}: ${amount:.2f}\")\n",
    "    \n",
    "    print(\"\\nSales by Date:\")\n",
    "    for date, amount in results['sales_by_date'].items():\n",
    "        print(f\"{date}: ${amount:.2f}\")\n",
    "    \n",
    "    best_product, best_product_sales = results['best_selling_product']\n",
    "    print(f\"\\nBest-selling product: {best_product} (${best_product_sales:.2f})\")\n",
    "    \n",
    "    best_day, best_day_sales = results['best_sales_day']\n",
    "    print(f\"Best sales day: {best_day} (${best_day_sales:.2f})\")\n",
    "    \n",
    "    # Save the results to a JSON file\n",
    "    with open(\"sales_analysis.json\", \"w\") as file:\n",
    "        # Convert the results to a format that can be serialized to JSON\n",
    "        serializable_results = {\n",
    "            \"total_sales\": results[\"total_sales\"],\n",
    "            \"sales_by_product\": results[\"sales_by_product\"],\n",
    "            \"sales_by_date\": results[\"sales_by_date\"],\n",
    "            \"best_selling_product\": {\n",
    "                \"product\": results[\"best_selling_product\"][0],\n",
    "                \"sales\": results[\"best_selling_product\"][1]\n",
    "            },\n",
    "            \"best_sales_day\": {\n",
    "                \"date\": results[\"best_sales_day\"][0],\n",
    "                \"sales\": results[\"best_sales_day\"][1]\n",
    "            }\n",
    "        }\n",
    "        json.dump(serializable_results, file, indent=4)\n",
    "    \n",
    "    print(\"\\nAnalysis results have been saved to 'sales_analysis.json'.\")"
   ]
  },
  {
   "cell_type": "markdown",
   "metadata": {},
   "source": [
    "## Practice Exercise\n",
    "\n",
    "Let's practice what we've learned with an exercise:"
   ]
  },
  {
   "cell_type": "markdown",
   "metadata": {},
   "source": [
    "### Exercise: Student Grade Tracker\n",
    "\n",
    "Create a program that reads student grades from a CSV file, calculates statistics (average, highest, lowest), and saves the results to a JSON file. The CSV file should have the following format:\n",
    "\n",
    "```\n",
    "Name,Math,Science,English,History\n",
    "Alice,85,92,78,88\n",
    "Bob,90,85,92,95\n",
    "Charlie,78,80,85,81\n",
    "```"
   ]
  },
  {
   "cell_type": "code",
   "execution_count": null,
   "metadata": {},
   "outputs": [],
   "source": [
    "# First, let's create the sample grades CSV file\n",
    "grades_data = [\n",
    "    [\"Name\", \"Math\", \"Science\", \"English\", \"History\"],\n",
    "    [\"Alice\", 85, 92, 78, 88],\n",
    "    [\"Bob\", 90, 85, 92, 95],\n",
    "    [\"Charlie\", 78, 80, 85, 81],\n",
    "    [\"Diana\", 95, 88, 92, 85],\n",
    "    [\"Evan\", 82, 79, 88, 90]\n",
    "]\n",
    "\n",
    "with open(\"student_grades.csv\", \"w\", newline=\"\") as file:\n",
    "    writer = csv.writer(file)\n",
    "    writer.writerows(grades_data)\n",
    "\n",
    "print(\"Student grades CSV file has been created.\")"
   ]
  },
  {
   "cell_type": "code",
   "execution_count": null,
   "metadata": {},
   "outputs": [],
   "source": [
    "# Your code here\n"
   ]
  }
 ],
 "metadata": {
  "kernelspec": {
   "display_name": "AktThemen",
   "language": "python",
   "name": "python3"
  },
  "language_info": {
   "codemirror_mode": {
    "name": "ipython",
    "version": 3
   },
   "file_extension": ".py",
   "mimetype": "text/x-python",
   "name": "python",
   "nbconvert_exporter": "python",
   "pygments_lexer": "ipython3",
   "version": "3.12.7"
  }
 },
 "nbformat": 4,
 "nbformat_minor": 4
}
