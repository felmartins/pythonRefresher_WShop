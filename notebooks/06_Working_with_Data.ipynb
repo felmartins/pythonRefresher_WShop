{
 "cells": [
  {
   "cell_type": "markdown",
   "metadata": {},
   "source": [
    "# Working with Data\n",
    "\n",
    "In this section, we'll learn how to work with data in Python, including reading and writing files, and handling different data formats."
   ]
  },
  {
   "cell_type": "markdown",
   "metadata": {},
   "source": [
    "## Reading and Writing Text Files\n",
    "\n",
    "Python makes it easy to read from and write to files. The basic steps are:\n",
    "1. Open the file using the `open()` function\n",
    "2. Read from or write to the file\n",
    "3. Close the file when you're done"
   ]
  },
  {
   "cell_type": "markdown",
   "metadata": {},
   "source": [
    "### Writing to a Text File"
   ]
  },
  {
   "cell_type": "code",
   "execution_count": 4,
   "metadata": {},
   "outputs": [
    {
     "name": "stdout",
     "output_type": "stream",
     "text": [
      "File has been written.\n"
     ]
    }
   ],
   "source": [
    "# Writing to a file\n",
    "file = open(\"sample.txt\", \"w\")  # Open in write mode ('w')\n",
    "file.write(\"Hello, World!\\n\")    # Write a line of text\n",
    "file.write(\"This is a sample file.\\n\")  # Write another line\n",
    "file.close()  # Close the file\n",
    "\n",
    "print(\"File has been written.\")"
   ]
  },
  {
   "cell_type": "markdown",
   "metadata": {},
   "source": [
    "### Reading from a Text File"
   ]
  },
  {
   "cell_type": "code",
   "execution_count": 5,
   "metadata": {},
   "outputs": [
    {
     "name": "stdout",
     "output_type": "stream",
     "text": [
      "File content:\n",
      "Hello, World!\n",
      "This is a sample file.\n",
      "\n"
     ]
    }
   ],
   "source": [
    "# Reading from a file\n",
    "file = open(\"sample.txt\", \"r\")  # Open in read mode ('r')\n",
    "content = file.read()  # Read the entire file\n",
    "file.close()  # Close the file\n",
    "\n",
    "print(\"File content:\")\n",
    "print(content)"
   ]
  },
  {
   "cell_type": "markdown",
   "metadata": {},
   "source": [
    "### Reading a File Line by Line"
   ]
  },
  {
   "cell_type": "code",
   "execution_count": 6,
   "metadata": {},
   "outputs": [
    {
     "name": "stdout",
     "output_type": "stream",
     "text": [
      "Reading line by line:\n",
      "Line: Hello, World!\n",
      "Line: This is a sample file.\n"
     ]
    }
   ],
   "source": [
    "# Reading a file line by line\n",
    "file = open(\"sample.txt\", \"r\")\n",
    "print(\"Reading line by line:\")\n",
    "for line in file:\n",
    "    print(f\"Line: {line.strip()}\")  # strip() removes the newline character\n",
    "file.close()"
   ]
  },
  {
   "cell_type": "markdown",
   "metadata": {},
   "source": [
    "### Using `with` Statement (Context Manager)\n",
    "\n",
    "A better way to work with files is to use the `with` statement, which automatically closes the file when you're done with it, even if an error occurs."
   ]
  },
  {
   "cell_type": "code",
   "execution_count": 7,
   "metadata": {},
   "outputs": [
    {
     "name": "stdout",
     "output_type": "stream",
     "text": [
      "Content read using 'with' statement:\n",
      "Hello, World!\n",
      "This is a sample file.\n",
      "\n"
     ]
    }
   ],
   "source": [
    "# Using the 'with' statement\n",
    "with open(\"sample.txt\", \"r\") as file:\n",
    "    content = file.read()\n",
    "    print(\"Content read using 'with' statement:\")\n",
    "    print(content)\n",
    "# File is automatically closed when the 'with' block ends"
   ]
  },
  {
   "cell_type": "markdown",
   "metadata": {},
   "source": [
    "### Appending to a File\n",
    "\n",
    "If you want to add content to an existing file without overwriting it, you can open the file in append mode ('a')."
   ]
  },
  {
   "cell_type": "code",
   "execution_count": 8,
   "metadata": {},
   "outputs": [
    {
     "name": "stdout",
     "output_type": "stream",
     "text": [
      "Updated file content:\n",
      "Hello, World!\n",
      "This is a sample file.\n",
      "This line is appended.\n",
      "Another appended line.\n",
      "\n"
     ]
    }
   ],
   "source": [
    "# Appending to a file\n",
    "with open(\"sample.txt\", \"a\") as file:  # Open in append mode ('a')\n",
    "    file.write(\"This line is appended.\\n\")\n",
    "    file.write(\"Another appended line.\\n\")\n",
    "\n",
    "# Read the updated file\n",
    "with open(\"sample.txt\", \"r\") as file:\n",
    "    content = file.read()\n",
    "    print(\"Updated file content:\")\n",
    "    print(content)"
   ]
  },
  {
   "cell_type": "markdown",
   "metadata": {},
   "source": [
    "## Working with CSV Files\n",
    "\n",
    "CSV (Comma-Separated Values) is a common format for storing tabular data. Python's `pandas` module makes it easy to read and write CSV files. Pandas is also very similar to R **tabular** data formats such as **tibbles*. If you are familair with this, adaptation should be easy."
   ]
  },
  {
   "cell_type": "code",
   "execution_count": 9,
   "metadata": {},
   "outputs": [
    {
     "name": "stdout",
     "output_type": "stream",
     "text": [
      "CSV file has been written using pandas.\n"
     ]
    }
   ],
   "source": [
    "import pandas as pd\n",
    "\n",
    "# Writing to a CSV file\n",
    "data = [\n",
    "    [\"Alice\", 30, \"New York\"],\n",
    "    [\"Bob\", 25, \"Los Angeles\"],\n",
    "    [\"Charlie\", 35, \"Chicago\"]\n",
    "]\n",
    "\n",
    "# Create a DataFrame with column names\n",
    "df = pd.DataFrame(data, columns=[\"Name\", \"Age\", \"City\"])\n",
    "\n",
    "# Write DataFrame to CSV\n",
    "df.to_csv(\"people.csv\", index=False)  # index=False to avoid writing row indices\n",
    "\n",
    "print(\"CSV file has been written using pandas.\")"
   ]
  },
  {
   "cell_type": "code",
   "execution_count": 10,
   "metadata": {},
   "outputs": [
    {
     "name": "stdout",
     "output_type": "stream",
     "text": [
      "CSV file content using pandas:\n",
      "      Name  Age         City\n",
      "0    Alice   30     New York\n",
      "1      Bob   25  Los Angeles\n",
      "2  Charlie   35      Chicago\n",
      "\n",
      "Names in the DataFrame:\n",
      "0      Alice\n",
      "1        Bob\n",
      "2    Charlie\n",
      "Name: Name, dtype: object\n",
      "\n",
      "Age statistics:\n",
      "count     3.0\n",
      "mean     30.0\n",
      "std       5.0\n",
      "min      25.0\n",
      "25%      27.5\n",
      "50%      30.0\n",
      "75%      32.5\n",
      "max      35.0\n",
      "Name: Age, dtype: float64\n"
     ]
    }
   ],
   "source": [
    "# Reading from a CSV file\n",
    "df = pd.read_csv(\"people.csv\")\n",
    "\n",
    "print(\"CSV file content using pandas:\")\n",
    "print(df)  # Display the entire DataFrame\n",
    "\n",
    "# Accessing specific columns\n",
    "print(\"\\nNames in the DataFrame:\")\n",
    "print(df[\"Name\"])  # Access a single column (returns a Series)\n",
    "\n",
    "# Basic statistics\n",
    "print(\"\\nAge statistics:\")\n",
    "print(df[\"Age\"].describe())  # Get statistical summary of the Age column"
   ]
  },
  {
   "cell_type": "markdown",
   "metadata": {},
   "source": [
    "### Using CSV with Dictionaries\n",
    "\n",
    "The `pandas` module also provides neans for working with CSV files using dictionaries, which can be more convenient depending on the data format."
   ]
  },
  {
   "cell_type": "code",
   "execution_count": 11,
   "metadata": {},
   "outputs": [
    {
     "name": "stdout",
     "output_type": "stream",
     "text": [
      "CSV file has been written using pandas DataFrame from dictionaries.\n"
     ]
    }
   ],
   "source": [
    "# Creating a DataFrame from a list of dictionaries\n",
    "data = [\n",
    "    {\"Name\": \"Alice\", \"Age\": 30, \"City\": \"New York\"},\n",
    "    {\"Name\": \"Bob\", \"Age\": 25, \"City\": \"Los Angeles\"},\n",
    "    {\"Name\": \"Charlie\", \"Age\": 35, \"City\": \"Chicago\"}\n",
    "]\n",
    "\n",
    "# Create DataFrame from list of dictionaries\n",
    "df = pd.DataFrame(data)\n",
    "\n",
    "# Write to CSV\n",
    "df.to_csv(\"people_dict.csv\", index=False)\n",
    "\n",
    "print(\"CSV file has been written using pandas DataFrame from dictionaries.\")"
   ]
  },
  {
   "cell_type": "code",
   "execution_count": 12,
   "metadata": {},
   "outputs": [
    {
     "name": "stdout",
     "output_type": "stream",
     "text": [
      "CSV file content read using pandas:\n",
      "      Name  Age         City\n",
      "0    Alice   30     New York\n",
      "1      Bob   25  Los Angeles\n",
      "2  Charlie   35      Chicago\n",
      "\n",
      "DataFrame converted to list of dictionaries:\n",
      "{'Name': 'Alice', 'Age': 30, 'City': 'New York'}\n",
      "{'Name': 'Bob', 'Age': 25, 'City': 'Los Angeles'}\n",
      "{'Name': 'Charlie', 'Age': 35, 'City': 'Chicago'}\n"
     ]
    }
   ],
   "source": [
    "# Reading CSV into a DataFrame\n",
    "df = pd.read_csv(\"people_dict.csv\")\n",
    "\n",
    "print(\"CSV file content read using pandas:\")\n",
    "print(df)\n",
    "\n",
    "# Converting DataFrame to list of dictionaries\n",
    "records = df.to_dict(orient=\"records\")\n",
    "print(\"\\nDataFrame converted to list of dictionaries:\")\n",
    "for record in records:\n",
    "    print(record)"
   ]
  },
  {
   "cell_type": "markdown",
   "metadata": {},
   "source": [
    "## Working with JSON\n",
    "\n",
    "JSON (JavaScript Object Notation) is a popular data format used for data exchange. Python's `json` module makes it easy to work with JSON data."
   ]
  },
  {
   "cell_type": "code",
   "execution_count": 13,
   "metadata": {},
   "outputs": [
    {
     "name": "stdout",
     "output_type": "stream",
     "text": [
      "JSON string using pandas:\n",
      "[\n",
      "    {\n",
      "        \"name\":\"Alice\",\n",
      "        \"age\":30,\n",
      "        \"city\":\"New York\",\n",
      "        \"is_student\":false,\n",
      "        \"courses\":[\n",
      "            \"Python\",\n",
      "            \"Data Science\",\n",
      "            \"Machine Learning\"\n",
      "        ],\n",
      "        \"address\":{\n",
      "            \"street\":\"123 Main St\",\n",
      "            \"zip\":\"10001\"\n",
      "        }\n",
      "    }\n",
      "]\n"
     ]
    }
   ],
   "source": [
    "import pandas as pd\n",
    "\n",
    "# Creating a Python dictionary\n",
    "person = {\n",
    "    \"name\": \"Alice\",\n",
    "    \"age\": 30,\n",
    "    \"city\": \"New York\",\n",
    "    \"is_student\": False,\n",
    "    \"courses\": [\"Python\", \"Data Science\", \"Machine Learning\"],\n",
    "    \"address\": {\n",
    "        \"street\": \"123 Main St\",\n",
    "        \"zip\": \"10001\"\n",
    "    }\n",
    "}\n",
    "\n",
    "# Converting Python dictionary to JSON string using pandas\n",
    "# First create a DataFrame with a single row\n",
    "person_df = pd.DataFrame([person])\n",
    "json_string = person_df.to_json(orient=\"records\", indent=4)\n",
    "print(\"JSON string using pandas:\")\n",
    "print(json_string)"
   ]
  },
  {
   "cell_type": "code",
   "execution_count": 14,
   "metadata": {},
   "outputs": [
    {
     "name": "stdout",
     "output_type": "stream",
     "text": [
      "JSON file has been written using pandas.\n"
     ]
    }
   ],
   "source": [
    "# Writing JSON to a file using pandas\n",
    "person_df.to_json(\"person.json\", orient=\"records\", indent=4)\n",
    "print(\"JSON file has been written using pandas.\")"
   ]
  },
  {
   "cell_type": "code",
   "execution_count": 15,
   "metadata": {},
   "outputs": [
    {
     "name": "stdout",
     "output_type": "stream",
     "text": [
      "Loaded from JSON file using pandas:\n",
      "{'name': 'Alice', 'age': 30, 'city': 'New York', 'is_student': False, 'courses': ['Python', 'Data Science', 'Machine Learning'], 'address': {'street': '123 Main St', 'zip': '10001'}}\n",
      "Name: Alice\n",
      "Age: 30\n",
      "Courses: Python, Data Science, Machine Learning\n",
      "Street: 123 Main St\n"
     ]
    }
   ],
   "source": [
    "# Reading JSON from a file using pandas\n",
    "loaded_df = pd.read_json(\"person.json\", orient=\"records\")\n",
    "loaded_person = loaded_df.iloc[0].to_dict()\n",
    "\n",
    "print(\"Loaded from JSON file using pandas:\")\n",
    "print(loaded_person)\n",
    "\n",
    "# Accessing values in the loaded dictionary\n",
    "print(f\"Name: {loaded_person['name']}\")\n",
    "print(f\"Age: {loaded_person['age']}\")\n",
    "print(f\"Courses: {', '.join(loaded_person['courses'])}\")\n",
    "print(f\"Street: {loaded_person['address']['street']}\")"
   ]
  },
  {
   "cell_type": "markdown",
   "metadata": {},
   "source": [
    "Sometimes, due to how API and online data sources are programmed, our data can be a bit more complex and feature **nested** values or structure. Pandas can load this sort of complex data, however be aware of this increased complexity when designing your analysis. See the following example:"
   ]
  },
  {
   "cell_type": "code",
   "execution_count": 16,
   "metadata": {},
   "outputs": [
    {
     "name": "stdout",
     "output_type": "stream",
     "text": [
      "Complex data loaded:\n",
      "people     [{'name': 'Alice', 'age': 30, 'skills': ['Pyth...\n",
      "company    {'name': 'Tech Solutions', 'year_founded': 201...\n",
      "dtype: object\n",
      "\n",
      "People in the data:\n",
      "Name: Alice, Skills: Python, SQL\n",
      "Name: Bob, Skills: JavaScript, HTML, CSS\n",
      "\n",
      "Company: Tech Solutions\n",
      "Locations: New York, San Francisco\n"
     ]
    }
   ],
   "source": [
    "# For nested JSON or complex structures\n",
    "# Let's create a more complex data structure\n",
    "data = {\n",
    "    \"people\": [\n",
    "        {\n",
    "            \"name\": \"Alice\",\n",
    "            \"age\": 30,\n",
    "            \"skills\": [\"Python\", \"SQL\"]\n",
    "        },\n",
    "        {\n",
    "            \"name\": \"Bob\",\n",
    "            \"age\": 25,\n",
    "            \"skills\": [\"JavaScript\", \"HTML\", \"CSS\"]\n",
    "        }\n",
    "    ],\n",
    "    \"company\": {\n",
    "        \"name\": \"Tech Solutions\",\n",
    "        \"year_founded\": 2010,\n",
    "        \"locations\": [\"New York\", \"San Francisco\"]\n",
    "    }\n",
    "}\n",
    "\n",
    "# Convert to JSON and write to file\n",
    "pd.Series(data).to_json(\"complex_data.json\", indent=4)\n",
    "\n",
    "# Read the complex JSON\n",
    "loaded_complex = pd.read_json(\"complex_data.json\", typ=\"series\")\n",
    "print(\"Complex data loaded:\")\n",
    "print(loaded_complex)\n",
    "\n",
    "# Access nested elements\n",
    "print(\"\\nPeople in the data:\")\n",
    "for person in loaded_complex[\"people\"]:\n",
    "    print(f\"Name: {person['name']}, Skills: {', '.join(person['skills'])}\")\n",
    "\n",
    "print(f\"\\nCompany: {loaded_complex['company']['name']}\")\n",
    "print(f\"Locations: {', '.join(loaded_complex['company']['locations'])}\")"
   ]
  },
  {
   "cell_type": "markdown",
   "metadata": {},
   "source": [
    "## Error Handling\n",
    "\n",
    "When working with files and data, it's important to handle potential errors, such as file not found or invalid data format."
   ]
  },
  {
   "cell_type": "code",
   "execution_count": 17,
   "metadata": {},
   "outputs": [
    {
     "name": "stdout",
     "output_type": "stream",
     "text": [
      "Error: The file does not exist.\n"
     ]
    }
   ],
   "source": [
    "# Error handling when opening a file\n",
    "try:\n",
    "    with open(\"nonexistent_file.txt\", \"r\") as file:\n",
    "        content = file.read()\n",
    "except FileNotFoundError:\n",
    "    print(\"Error: The file does not exist.\")\n",
    "except PermissionError:\n",
    "    print(\"Error: You don't have permission to access this file.\")\n",
    "except Exception as e:\n",
    "    print(f\"An unexpected error occurred: {e}\")"
   ]
  },
  {
   "cell_type": "code",
   "execution_count": 18,
   "metadata": {},
   "outputs": [
    {
     "ename": "NameError",
     "evalue": "name 'json' is not defined",
     "output_type": "error",
     "traceback": [
      "\u001b[1;31m---------------------------------------------------------------------------\u001b[0m",
      "\u001b[1;31mNameError\u001b[0m                                 Traceback (most recent call last)",
      "Cell \u001b[1;32mIn[18], line 5\u001b[0m\n\u001b[0;32m      4\u001b[0m \u001b[38;5;28;01mtry\u001b[39;00m:\n\u001b[1;32m----> 5\u001b[0m     parsed_data \u001b[38;5;241m=\u001b[39m \u001b[43mjson\u001b[49m\u001b[38;5;241m.\u001b[39mloads(invalid_json)\n\u001b[0;32m      6\u001b[0m     \u001b[38;5;28mprint\u001b[39m(parsed_data)\n",
      "\u001b[1;31mNameError\u001b[0m: name 'json' is not defined",
      "\nDuring handling of the above exception, another exception occurred:\n",
      "\u001b[1;31mNameError\u001b[0m                                 Traceback (most recent call last)",
      "Cell \u001b[1;32mIn[18], line 7\u001b[0m\n\u001b[0;32m      5\u001b[0m     parsed_data \u001b[38;5;241m=\u001b[39m json\u001b[38;5;241m.\u001b[39mloads(invalid_json)\n\u001b[0;32m      6\u001b[0m     \u001b[38;5;28mprint\u001b[39m(parsed_data)\n\u001b[1;32m----> 7\u001b[0m \u001b[38;5;28;01mexcept\u001b[39;00m \u001b[43mjson\u001b[49m\u001b[38;5;241m.\u001b[39mJSONDecodeError \u001b[38;5;28;01mas\u001b[39;00m e:\n\u001b[0;32m      8\u001b[0m     \u001b[38;5;28mprint\u001b[39m(\u001b[38;5;124mf\u001b[39m\u001b[38;5;124m\"\u001b[39m\u001b[38;5;124mError parsing JSON: \u001b[39m\u001b[38;5;132;01m{\u001b[39;00me\u001b[38;5;132;01m}\u001b[39;00m\u001b[38;5;124m\"\u001b[39m)\n",
      "\u001b[1;31mNameError\u001b[0m: name 'json' is not defined"
     ]
    }
   ],
   "source": [
    "# Error handling when parsing JSON\n",
    "invalid_json = \"{'name': 'Alice', 'age': 30}\"  # Invalid JSON (single quotes instead of double quotes)\n",
    "\n",
    "try:\n",
    "    parsed_data = json.loads(invalid_json)\n",
    "    print(parsed_data)\n",
    "except json.JSONDecodeError as e:\n",
    "    print(f\"Error parsing JSON: {e}\")"
   ]
  },
  {
   "cell_type": "markdown",
   "metadata": {},
   "source": [
    "## Real-World Example: Data Analysis\n",
    "\n",
    "Let's put everything together in a real-world example where we read data from a CSV file, process it, and save the results."
   ]
  },
  {
   "cell_type": "code",
   "execution_count": null,
   "metadata": {},
   "outputs": [],
   "source": [
    "# Creating sample sales data with pandas\n",
    "sales_data = [\n",
    "    [\"2023-01-15\", \"Laptop\", 1200, 5],\n",
    "    [\"2023-01-15\", \"Mouse\", 25, 10],\n",
    "    [\"2023-01-16\", \"Keyboard\", 45, 8],\n",
    "    [\"2023-01-16\", \"Monitor\", 150, 3],\n",
    "    [\"2023-01-17\", \"Laptop\", 1200, 2],\n",
    "    [\"2023-01-17\", \"Headphones\", 80, 7],\n",
    "    [\"2023-01-18\", \"Mouse\", 25, 15],\n",
    "    [\"2023-01-18\", \"Keyboard\", 45, 5]\n",
    "]\n",
    "\n",
    "# Create DataFrame with column names\n",
    "sales_df = pd.DataFrame(sales_data, columns=[\"Date\", \"Product\", \"Price\", \"Quantity\"])\n",
    "\n",
    "# Write to CSV\n",
    "sales_df.to_csv(\"sales.csv\", index=False)\n",
    "\n",
    "print(\"Sales data CSV file has been created using pandas.\")"
   ]
  },
  {
   "cell_type": "code",
   "execution_count": null,
   "metadata": {},
   "outputs": [],
   "source": [
    "# Now, let's analyze the sales data using pandas\n",
    "def analyze_sales_data(filename):\n",
    "    \"\"\"\n",
    "    Analyze sales data from a CSV file using pandas.\n",
    "    \n",
    "    Parameters:\n",
    "    filename (str): The name of the CSV file\n",
    "    \n",
    "    Returns:\n",
    "    dict: A dictionary containing the analysis results\n",
    "    \"\"\"\n",
    "    try:\n",
    "        # Read the sales data\n",
    "        df = pd.read_csv(filename)\n",
    "        \n",
    "        # Add a 'Total' column (price * quantity)\n",
    "        df[\"Total\"] = df[\"Price\"] * df[\"Quantity\"]\n",
    "        \n",
    "        # Calculate total sales\n",
    "        total_sales = df[\"Total\"].sum()\n",
    "        \n",
    "        # Calculate sales by product\n",
    "        sales_by_product = df.groupby(\"Product\")[\"Total\"].sum().to_dict()\n",
    "        \n",
    "        # Calculate sales by date\n",
    "        sales_by_date = df.groupby(\"Date\")[\"Total\"].sum().to_dict()\n",
    "        \n",
    "        # Find the best-selling product\n",
    "        best_product_series = df.groupby(\"Product\")[\"Total\"].sum()\n",
    "        best_selling_product = (best_product_series.idxmax(), best_product_series.max())\n",
    "        \n",
    "        # Find the day with the highest sales\n",
    "        best_date_series = df.groupby(\"Date\")[\"Total\"].sum()\n",
    "        best_sales_day = (best_date_series.idxmax(), best_date_series.max())\n",
    "        \n",
    "        # Return the analysis results\n",
    "        return {\n",
    "            \"total_sales\": total_sales,\n",
    "            \"sales_by_product\": sales_by_product,\n",
    "            \"sales_by_date\": sales_by_date,\n",
    "            \"best_selling_product\": best_selling_product,\n",
    "            \"best_sales_day\": best_sales_day\n",
    "        }\n",
    "    \n",
    "    except FileNotFoundError:\n",
    "        print(f\"Error: The file '{filename}' does not exist.\")\n",
    "        return None\n",
    "    except Exception as e:\n",
    "        print(f\"An error occurred: {e}\")\n",
    "        return None\n",
    "\n",
    "# Analyze the sales data\n",
    "results = analyze_sales_data(\"sales.csv\")\n",
    "\n",
    "if results:\n",
    "    print(f\"Total Sales: ${results['total_sales']:.2f}\")\n",
    "    \n",
    "    print(\"\\nSales by Product:\")\n",
    "    for product, amount in results['sales_by_product'].items():\n",
    "        print(f\"{product}: ${amount:.2f}\")\n",
    "    \n",
    "    print(\"\\nSales by Date:\")\n",
    "    for date, amount in results['sales_by_date'].items():\n",
    "        print(f\"{date}: ${amount:.2f}\")\n",
    "    \n",
    "    best_product, best_product_sales = results['best_selling_product']\n",
    "    print(f\"\\nBest-selling product: {best_product} (${best_product_sales:.2f})\")\n",
    "    \n",
    "    best_day, best_day_sales = results['best_sales_day']\n",
    "    print(f\"Best sales day: {best_day} (${best_day_sales:.2f})\")\n",
    "    \n",
    "    # Save the results to a JSON file\n",
    "    with open(\"sales_analysis.json\", \"w\") as file:\n",
    "        # Convert the results to a format that can be serialized to JSON\n",
    "        serializable_results = {\n",
    "            \"total_sales\": results[\"total_sales\"],\n",
    "            \"sales_by_product\": results[\"sales_by_product\"],\n",
    "            \"sales_by_date\": results[\"sales_by_date\"],\n",
    "            \"best_selling_product\": {\n",
    "                \"product\": results[\"best_selling_product\"][0],\n",
    "                \"sales\": results[\"best_selling_product\"][1]\n",
    "            },\n",
    "            \"best_sales_day\": {\n",
    "                \"date\": results[\"best_sales_day\"][0],\n",
    "                \"sales\": results[\"best_sales_day\"][1]\n",
    "            }\n",
    "        }\n",
    "        json.dump(serializable_results, file, indent=4)\n",
    "    \n",
    "    print(\"\\nAnalysis results have been saved to 'sales_analysis.json'.\")"
   ]
  },
  {
   "cell_type": "markdown",
   "metadata": {},
   "source": [
    "## Practice Exercise\n",
    "\n",
    "Let's practice what we've learned with an exercise:"
   ]
  },
  {
   "cell_type": "markdown",
   "metadata": {},
   "source": [
    "### Exercise: Student Grade Tracker\n",
    "\n",
    "Create a program that reads student grades from a CSV file, calculates statistics (average, highest, lowest), and saves the results to a JSON file. The CSV file should have the following format:\n",
    "\n",
    "```\n",
    "Name,Math,Science,English,History\n",
    "Alice,85,92,78,88\n",
    "Bob,90,85,92,95\n",
    "Charlie,78,80,85,81\n",
    "```"
   ]
  },
  {
   "cell_type": "code",
   "execution_count": null,
   "metadata": {},
   "outputs": [],
   "source": [
    "# Create student grades data\n",
    "grades_data = [\n",
    "    [\"Alice\", 85, 92, 78, 88],\n",
    "    [\"Bob\", 90, 85, 92, 95],\n",
    "    [\"Charlie\", 78, 80, 85, 81],\n",
    "    [\"Diana\", 95, 88, 92, 85],\n",
    "    [\"Evan\", 82, 79, 88, 90]\n",
    "]\n",
    "\n",
    "# Create DataFrame with column names\n",
    "grades_df = pd.DataFrame(grades_data, columns=[\"Name\", \"Math\", \"Science\", \"English\", \"History\"])\n",
    "\n",
    "# Write to CSV\n",
    "grades_df.to_csv(\"student_grades.csv\", index=False)\n",
    "\n",
    "print(\"Student grades CSV file has been created using pandas.\")"
   ]
  }
 ],
 "metadata": {
  "kernelspec": {
   "display_name": "Python 3",
   "language": "python",
   "name": "python3"
  },
  "language_info": {
   "codemirror_mode": {
    "name": "ipython",
    "version": 3
   },
   "file_extension": ".py",
   "mimetype": "text/x-python",
   "name": "python",
   "nbconvert_exporter": "python",
   "pygments_lexer": "ipython3",
   "version": "3.12.3"
  }
 },
 "nbformat": 4,
 "nbformat_minor": 4
}
