{
 "cells": [
  {
   "cell_type": "markdown",
   "metadata": {},
   "source": [
    "# Conditional Statements\n",
    "\n",
    "In this section, we'll learn about conditional statements in Python. Conditional statements allow your program to make decisions based on certain conditions."
   ]
  },
  {
   "cell_type": "markdown",
   "metadata": {},
   "source": [
    "## What are Conditional Statements and Why Do We Need Them?\n",
    "\n",
    "Conditional statements are like decision points in your code. They allow your program to check if certain conditions are true or false, and then execute different code based on the result.\n",
    "\n",
    "Think of conditional statements as the \"if-then\" logic we use in everyday life:\n",
    "- If it's raining, then take an umbrella\n",
    "- If the traffic light is red, then stop\n",
    "- If you have enough money, then buy the item\n",
    "\n",
    "Why do we need conditional statements?\n",
    "- They allow our programs to make decisions\n",
    "- They help our code respond to different situations\n",
    "- They enable our programs to handle different user inputs\n",
    "- They make our programs more flexible and interactive"
   ]
  },
  {
   "cell_type": "markdown",
   "metadata": {},
   "source": [
    "## If Statements\n",
    "\n",
    "The simplest form of a conditional statement is the `if` statement. It checks if a condition is true, and if it is, it executes a block of code."
   ]
  },
  {
   "cell_type": "code",
   "execution_count": 1,
   "metadata": {},
   "outputs": [
    {
     "name": "stdout",
     "output_type": "stream",
     "text": [
      "You are an adult.\n"
     ]
    }
   ],
   "source": [
    "# Basic if statement\n",
    "age = 18\n",
    "\n",
    "if age >= 18:\n",
    "    print(\"You are an adult.\")"
   ]
  },
  {
   "cell_type": "markdown",
   "metadata": {},
   "source": [
    "In this example:\n",
    "1. We check if `age` is greater than or equal to 18\n",
    "2. If this condition is true, we print \"You are an adult.\"\n",
    "3. If the condition is false, nothing happens\n",
    "\n",
    "Notice the structure of the `if` statement:\n",
    "- It starts with the keyword `if`\n",
    "- Then comes a condition that evaluates to either `True` or `False`\n",
    "- The condition is followed by a colon `:`\n",
    "- The code to execute if the condition is true is indented (usually by 4 spaces)"
   ]
  },
  {
   "cell_type": "markdown",
   "metadata": {},
   "source": [
    "## If-Else Statements\n",
    "\n",
    "An `if-else` statement executes one block of code if a condition is true, and another block if the condition is false."
   ]
  },
  {
   "cell_type": "code",
   "execution_count": 2,
   "metadata": {},
   "outputs": [
    {
     "name": "stdout",
     "output_type": "stream",
     "text": [
      "You are not an adult yet.\n"
     ]
    }
   ],
   "source": [
    "age = 16\n",
    "\n",
    "if age >= 18:\n",
    "    print(\"You are an adult.\")\n",
    "else:\n",
    "    print(\"You are not an adult yet.\")"
   ]
  },
  {
   "cell_type": "markdown",
   "metadata": {},
   "source": [
    "In this example:\n",
    "1. We check if `age` is greater than or equal to 18\n",
    "2. If this condition is true, we print \"You are an adult.\"\n",
    "3. If the condition is false, we print \"You are not an adult yet.\"\n",
    "\n",
    "The `else` clause provides an alternative action when the condition is not met."
   ]
  },
  {
   "cell_type": "markdown",
   "metadata": {},
   "source": [
    "## If-Elif-Else Statements\n",
    "\n",
    "An `if-elif-else` statement checks multiple conditions in sequence. The `elif` is short for \"else if\"."
   ]
  },
  {
   "cell_type": "code",
   "execution_count": 3,
   "metadata": {},
   "outputs": [
    {
     "name": "stdout",
     "output_type": "stream",
     "text": [
      "You are a senior.\n"
     ]
    }
   ],
   "source": [
    "age = 65\n",
    "\n",
    "if age < 18:\n",
    "    print(\"You are a minor.\")\n",
    "elif age < 65:\n",
    "    print(\"You are an adult.\")\n",
    "else:\n",
    "    print(\"You are a senior.\")"
   ]
  },
  {
   "cell_type": "markdown",
   "metadata": {},
   "source": [
    "In this example:\n",
    "1. First, we check if `age` is less than 18\n",
    "2. If that's true, we print \"You are a minor.\" and skip the rest\n",
    "3. If that's false, we check if `age` is less than 65\n",
    "4. If that's true, we print \"You are an adult.\" and skip the rest\n",
    "5. If that's also false, we print \"You are a senior.\"\n",
    "\n",
    "The conditions are checked in order, and only the first true condition's code block is executed. If none of the conditions are true, the `else` block is executed."
   ]
  },
  {
   "cell_type": "markdown",
   "metadata": {},
   "source": [
    "You can have as many `elif` blocks as you need:"
   ]
  },
  {
   "cell_type": "code",
   "execution_count": 4,
   "metadata": {},
   "outputs": [
    {
     "name": "stdout",
     "output_type": "stream",
     "text": [
      "Your grade is B.\n"
     ]
    }
   ],
   "source": [
    "score = 85\n",
    "\n",
    "if score >= 90:\n",
    "    grade = \"A\"\n",
    "elif score >= 80:\n",
    "    grade = \"B\"\n",
    "elif score >= 70:\n",
    "    grade = \"C\"\n",
    "elif score >= 60:\n",
    "    grade = \"D\"\n",
    "else:\n",
    "    grade = \"F\"\n",
    "\n",
    "print(f\"Your grade is {grade}.\")"
   ]
  },
  {
   "cell_type": "markdown",
   "metadata": {},
   "source": [
    "## Comparison Operators\n",
    "\n",
    "Conditional statements use comparison operators to evaluate conditions. Here are the most common comparison operators in Python:"
   ]
  },
  {
   "cell_type": "code",
   "execution_count": 5,
   "metadata": {},
   "outputs": [
    {
     "name": "stdout",
     "output_type": "stream",
     "text": [
      "x = 10, y = 5\n",
      "x == y: False\n",
      "x != y: True\n",
      "x > y: True\n",
      "x < y: False\n",
      "x >= y: True\n",
      "x <= y: False\n"
     ]
    }
   ],
   "source": [
    "x = 10\n",
    "y = 5\n",
    "\n",
    "print(f\"x = {x}, y = {y}\")\n",
    "print(f\"x == y: {x == y}\")  # Equal to\n",
    "print(f\"x != y: {x != y}\")  # Not equal to\n",
    "print(f\"x > y: {x > y}\")    # Greater than\n",
    "print(f\"x < y: {x < y}\")    # Less than\n",
    "print(f\"x >= y: {x >= y}\")  # Greater than or equal to\n",
    "print(f\"x <= y: {x <= y}\")  # Less than or equal to"
   ]
  },
  {
   "cell_type": "markdown",
   "metadata": {},
   "source": [
    "## Checking Multiple Conditions\n",
    "\n",
    "You can check multiple conditions using the `and`, `or`, and `not` operators:"
   ]
  },
  {
   "cell_type": "code",
   "execution_count": 6,
   "metadata": {},
   "outputs": [
    {
     "name": "stdout",
     "output_type": "stream",
     "text": [
      "You are eligible for a loan.\n",
      "You do not qualify for a special discount.\n",
      "You are not a minor.\n"
     ]
    }
   ],
   "source": [
    "age = 25\n",
    "income = 50000\n",
    "\n",
    "# Using 'and' - both conditions must be true\n",
    "if age >= 18 and income >= 30000:\n",
    "    print(\"You are eligible for a loan.\")\n",
    "else:\n",
    "    print(\"You are not eligible for a loan.\")\n",
    "\n",
    "# Using 'or' - at least one condition must be true\n",
    "if age >= 65 or income >= 100000:\n",
    "    print(\"You qualify for a special discount.\")\n",
    "else:\n",
    "    print(\"You do not qualify for a special discount.\")\n",
    "    \n",
    "# Using 'not' - negates a condition\n",
    "if not (age < 18):\n",
    "    print(\"You are not a minor.\")\n",
    "else:\n",
    "    print(\"You are a minor.\")"
   ]
  },
  {
   "cell_type": "markdown",
   "metadata": {},
   "source": [
    "### How Logical Operators Work\n",
    "\n",
    "- `and`: Returns `True` if both conditions are true, otherwise returns `False`\n",
    "- `or`: Returns `True` if at least one condition is true, otherwise returns `False`\n",
    "- `not`: Returns `True` if the condition is false, returns `False` if the condition is true\n",
    "\n",
    "You can combine these operators to create complex conditions:"
   ]
  },
  {
   "cell_type": "code",
   "execution_count": null,
   "metadata": {},
   "outputs": [],
   "source": [
    "age = 25\n",
    "income = 50000\n",
    "has_criminal_record = False\n",
    "\n",
    "if (age >= 18 and income >= 30000) and not has_criminal_record:\n",
    "    print(\"You are eligible for a loan.\")\n",
    "else:\n",
    "    print(\"You are not eligible for a loan.\")"
   ]
  },
  {
   "cell_type": "markdown",
   "metadata": {},
   "source": [
    "## Checking if a Value is in a List\n",
    "\n",
    "You can use the `in` operator to check if a value is in a list:"
   ]
  },
  {
   "cell_type": "code",
   "execution_count": null,
   "metadata": {},
   "outputs": [],
   "source": [
    "fruits = [\"apple\", \"banana\", \"orange\", \"grape\"]\n",
    "\n",
    "if \"banana\" in fruits:\n",
    "    print(\"Yes, banana is in the list of fruits.\")\n",
    "\n",
    "if \"pear\" not in fruits:\n",
    "    print(\"No, pear is not in the list of fruits.\")"
   ]
  },
  {
   "cell_type": "markdown",
   "metadata": {},
   "source": [
    "## Checking if a List is Empty\n",
    "\n",
    "In Python, empty lists are considered `False` in a boolean context, while non-empty lists are considered `True`:"
   ]
  },
  {
   "cell_type": "code",
   "execution_count": null,
   "metadata": {},
   "outputs": [],
   "source": [
    "items = []\n",
    "\n",
    "if items:  # This is the same as: if len(items) > 0:\n",
    "    print(\"The list is not empty.\")\n",
    "else:\n",
    "    print(\"The list is empty.\")\n",
    "\n",
    "items = [\"item1\", \"item2\"]\n",
    "\n",
    "if items:\n",
    "    print(\"The list is not empty.\")\n",
    "else:\n",
    "    print(\"The list is empty.\")"
   ]
  },
  {
   "cell_type": "markdown",
   "metadata": {},
   "source": [
    "## Checking if a Key Exists in a Dictionary\n",
    "\n",
    "You can use the `in` operator to check if a key exists in a dictionary:"
   ]
  },
  {
   "cell_type": "code",
   "execution_count": null,
   "metadata": {},
   "outputs": [],
   "source": [
    "person = {\"name\": \"John\", \"age\": 30, \"city\": \"New York\"}\n",
    "\n",
    "if \"name\" in person:\n",
    "    print(f\"Name: {person['name']}\")\n",
    "\n",
    "if \"email\" not in person:\n",
    "    print(\"Email is not available.\")"
   ]
  },
  {
   "cell_type": "markdown",
   "metadata": {},
   "source": [
    "## Conditional Expressions (Ternary Operator)\n",
    "\n",
    "Python has a compact way to write simple if-else statements using conditional expressions, also known as the ternary operator:"
   ]
  },
  {
   "cell_type": "code",
   "execution_count": null,
   "metadata": {},
   "outputs": [],
   "source": [
    "age = 20\n",
    "\n",
    "# Regular if-else statement\n",
    "if age >= 18:\n",
    "    status = \"adult\"\n",
    "else:\n",
    "    status = \"minor\"\n",
    "print(status)\n",
    "\n",
    "# Conditional expression (ternary operator)\n",
    "status = \"adult\" if age >= 18 else \"minor\"\n",
    "print(status)"
   ]
  },
  {
   "cell_type": "markdown",
   "metadata": {},
   "source": [
    "The syntax is: `value_if_true if condition else value_if_false`\n",
    "\n",
    "This is a more concise way to write simple if-else statements, especially when you're assigning a value based on a condition."
   ]
  },
  {
   "cell_type": "markdown",
   "metadata": {},
   "source": [
    "## Real-World Examples\n",
    "\n",
    "Let's look at some real-world examples of how conditional statements are used:"
   ]
  },
  {
   "cell_type": "code",
   "execution_count": null,
   "metadata": {},
   "outputs": [],
   "source": [
    "# Example 1: Determining shipping cost based on order total\n",
    "order_total = 75\n",
    "\n",
    "if order_total >= 100:\n",
    "    shipping_cost = 0  # Free shipping\n",
    "elif order_total >= 50:\n",
    "    shipping_cost = 5  # Reduced shipping\n",
    "else:\n",
    "    shipping_cost = 10  # Standard shipping\n",
    "\n",
    "print(f\"Order total: ${order_total}\")\n",
    "print(f\"Shipping cost: ${shipping_cost}\")\n",
    "print(f\"Final total: ${order_total + shipping_cost}\")"
   ]
  },
  {
   "cell_type": "code",
   "execution_count": 7,
   "metadata": {},
   "outputs": [
    {
     "name": "stdout",
     "output_type": "stream",
     "text": [
      "Login successful!\n"
     ]
    }
   ],
   "source": [
    "# Example 2: User authentication\n",
    "username = \"user123\"\n",
    "password = \"pass456\"\n",
    "\n",
    "# Stored credentials (in a real system, these would be securely stored)\n",
    "correct_username = \"user123\"\n",
    "correct_password = \"pass456\"\n",
    "\n",
    "if username == correct_username and password == correct_password:\n",
    "    print(\"Login successful!\")\n",
    "elif username == correct_username:\n",
    "    print(\"Incorrect password.\")\n",
    "else:\n",
    "    print(\"Invalid username.\")"
   ]
  },
  {
   "cell_type": "code",
   "execution_count": 8,
   "metadata": {},
   "outputs": [
    {
     "name": "stdout",
     "output_type": "stream",
     "text": [
      "Temperature: 75°F\n",
      "Raining: No\n",
      "Advice: It's a nice day. Enjoy the weather!\n"
     ]
    }
   ],
   "source": [
    "# Example 3: Weather advice\n",
    "temperature = 75\n",
    "is_raining = False\n",
    "\n",
    "if temperature > 85:\n",
    "    if is_raining:\n",
    "        advice = \"It's hot and raining. Consider staying indoors.\"\n",
    "    else:\n",
    "        advice = \"It's hot. Remember to stay hydrated.\"\n",
    "elif temperature > 65:\n",
    "    if is_raining:\n",
    "        advice = \"It's mild and raining. Take an umbrella.\"\n",
    "    else:\n",
    "        advice = \"It's a nice day. Enjoy the weather!\"\n",
    "else:\n",
    "    if is_raining:\n",
    "        advice = \"It's cold and raining. Take a coat and umbrella.\"\n",
    "    else:\n",
    "        advice = \"It's cold. Bundle up!\"\n",
    "\n",
    "print(f\"Temperature: {temperature}°F\")\n",
    "print(f\"Raining: {'Yes' if is_raining else 'No'}\")\n",
    "print(f\"Advice: {advice}\")"
   ]
  },
  {
   "cell_type": "markdown",
   "metadata": {},
   "source": [
    "## Common Pitfalls and Best Practices\n",
    "\n",
    "Here are some common pitfalls to avoid and best practices to follow when using conditional statements:"
   ]
  },
  {
   "cell_type": "markdown",
   "metadata": {},
   "source": [
    "### 1. Using = instead of ==\n",
    "\n",
    "A common mistake is using the assignment operator `=` instead of the equality operator `==` in conditions:"
   ]
  },
  {
   "cell_type": "code",
   "execution_count": null,
   "metadata": {},
   "outputs": [],
   "source": [
    "x = 5\n",
    "\n",
    "# Incorrect - this assigns 10 to x and always evaluates to True\n",
    "# if x = 10:\n",
    "#     print(\"x is 10\")\n",
    "\n",
    "# Correct - this checks if x equals 10\n",
    "if x == 10:\n",
    "    print(\"x is 10\")\n",
    "else:\n",
    "    print(\"x is not 10\")"
   ]
  },
  {
   "cell_type": "markdown",
   "metadata": {},
   "source": [
    "### 2. Forgetting the Colon\n",
    "\n",
    "Always remember to include the colon `:` at the end of the `if`, `elif`, and `else` lines:"
   ]
  },
  {
   "cell_type": "code",
   "execution_count": null,
   "metadata": {},
   "outputs": [],
   "source": [
    "x = 5\n",
    "\n",
    "# Incorrect - missing colon\n",
    "# if x > 0\n",
    "#     print(\"x is positive\")\n",
    "\n",
    "# Correct\n",
    "if x > 0:\n",
    "    print(\"x is positive\")"
   ]
  },
  {
   "cell_type": "markdown",
   "metadata": {},
   "source": [
    "### 3. Inconsistent Indentation\n",
    "\n",
    "Python uses indentation to define code blocks. Make sure your indentation is consistent:"
   ]
  },
  {
   "cell_type": "code",
   "execution_count": null,
   "metadata": {},
   "outputs": [],
   "source": [
    "x = 5\n",
    "\n",
    "# Incorrect - inconsistent indentation\n",
    "# if x > 0:\n",
    "#     print(\"x is positive\")\n",
    "#   print(\"This line has incorrect indentation\")\n",
    "\n",
    "# Correct\n",
    "if x > 0:\n",
    "    print(\"x is positive\")\n",
    "    print(\"This line has correct indentation\")"
   ]
  },
  {
   "cell_type": "markdown",
   "metadata": {},
   "source": [
    "### 4. Using Unnecessary Else Statements\n",
    "\n",
    "Sometimes you don't need an `else` statement:"
   ]
  },
  {
   "cell_type": "code",
   "execution_count": null,
   "metadata": {},
   "outputs": [],
   "source": [
    "age = 25\n",
    "\n",
    "# Unnecessarily complex\n",
    "if age >= 18:\n",
    "    is_adult = True\n",
    "else:\n",
    "    is_adult = False\n",
    "\n",
    "# Simpler and clearer\n",
    "is_adult = age >= 18\n",
    "\n",
    "print(f\"Is adult: {is_adult}\")"
   ]
  },
  {
   "cell_type": "markdown",
   "metadata": {},
   "source": [
    "## Practice Exercises\n",
    "\n",
    "Let's practice what we've learned with a few exercises:"
   ]
  },
  {
   "cell_type": "markdown",
   "metadata": {},
   "source": [
    "### Exercise 1: Alien Colors\n",
    "\n",
    "Imagine an alien was just shot down in a game. Create a variable called `alien_color` and assign it a value of 'green', 'yellow', or 'red'.\n",
    "\n",
    "- Write an if statement to test whether the alien's color is green. If it is, print a message that the player earned 5 points.\n",
    "- Write one version of this program that passes the if test and another that fails. (The version that fails will have no output.)"
   ]
  },
  {
   "cell_type": "code",
   "execution_count": null,
   "metadata": {},
   "outputs": [],
   "source": [
    "# Your code here\n"
   ]
  },
  {
   "cell_type": "markdown",
   "metadata": {},
   "source": [
    "### Exercise 2: Alien Colors #2\n",
    "\n",
    "Choose a color for an alien as you did in Exercise 1, and write an if-else chain.\n",
    "\n",
    "- If the alien's color is green, print a statement that the player just earned 5 points for shooting the alien.\n",
    "- If the alien's color isn't green, print a statement that the player just earned 10 points."
   ]
  },
  {
   "cell_type": "code",
   "execution_count": null,
   "metadata": {},
   "outputs": [],
   "source": [
    "# Your code here\n"
   ]
  },
  {
   "cell_type": "markdown",
   "metadata": {},
   "source": [
    "### Exercise 3: Alien Colors #3\n",
    "\n",
    "Turn your if-else chain from Exercise 2 into an if-elif-else chain.\n",
    "\n",
    "- If the alien is green, print a message that the player earned 5 points.\n",
    "- If the alien is yellow, print a message that the player earned 10 points.\n",
    "- If the alien is red, print a message that the player earned 15 points."
   ]
  },
  {
   "cell_type": "code",
   "execution_count": null,
   "metadata": {},
   "outputs": [],
   "source": [
    "# Your code here\n"
   ]
  },
  {
   "cell_type": "markdown",
   "metadata": {},
   "source": [
    "### Exercise 4: Stages of Life\n",
    "\n",
    "Write an if-elif-else chain that determines a person's stage of life. Set a value for the variable `age`, and then:\n",
    "\n",
    "- If the person is less than 2 years old, print a message that the person is a baby.\n",
    "- If the person is at least 2 years old but less than 4, print a message that the person is a toddler.\n",
    "- If the person is at least 4 years old but less than 13, print a message that the person is a kid.\n",
    "- If the person is at least 13 years old but less than 20, print a message that the person is a teenager.\n",
    "- If the person is at least 20 years old but less than 65, print a message that the person is an adult.\n",
    "- If the person is age 65 or older, print a message that the person is an elder."
   ]
  },
  {
   "cell_type": "code",
   "execution_count": null,
   "metadata": {},
   "outputs": [],
   "source": [
    "# Your code here\n"
   ]
  },
  {
   "cell_type": "markdown",
   "metadata": {},
   "source": [
    "### Exercise 5: Favorite Fruits\n",
    "\n",
    "Make a list of your favorite fruits, and then write a series of independent if statements that check for certain fruits in your list.\n",
    "\n",
    "- Make a list of your three favorite fruits and call it `favorite_fruits`.\n",
    "- Write five if statements. Each should check whether a certain kind of fruit is in your list. If the fruit is in your list, the if block should print a statement, such as \"You really like bananas!\""
   ]
  },
  {
   "cell_type": "code",
   "execution_count": null,
   "metadata": {},
   "outputs": [],
   "source": [
    "# Your code here\n"
   ]
  }
 ],
 "metadata": {
  "kernelspec": {
   "display_name": "AktThemen",
   "language": "python",
   "name": "python3"
  },
  "language_info": {
   "codemirror_mode": {
    "name": "ipython",
    "version": 3
   },
   "file_extension": ".py",
   "mimetype": "text/x-python",
   "name": "python",
   "nbconvert_exporter": "python",
   "pygments_lexer": "ipython3",
   "version": "3.12.7"
  }
 },
 "nbformat": 4,
 "nbformat_minor": 4
}
